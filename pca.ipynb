{
 "cells": [
  {
   "cell_type": "code",
   "id": "initial_id",
   "metadata": {
    "collapsed": true,
    "ExecuteTime": {
     "end_time": "2025-10-09T09:33:17.840263Z",
     "start_time": "2025-10-09T09:33:16.312577Z"
    }
   },
   "source": [
    "import numpy as np\n",
    "import pandas as pd\n",
    "from sklearn.preprocessing import StandardScaler\n",
    "from sklearn.decomposition import PCA\n",
    "from sklearn.model_selection import train_test_split\n",
    "from sklearn.linear_model import LogisticRegression\n",
    "from sklearn.metrics import confusion_matrix\n",
    "import matplotlib.pyplot as plt\n",
    "import seaborn as sns"
   ],
   "outputs": [],
   "execution_count": 1
  },
  {
   "metadata": {
    "ExecuteTime": {
     "end_time": "2025-10-09T09:35:40.162056Z",
     "start_time": "2025-10-09T09:35:39.992489Z"
    }
   },
   "cell_type": "code",
   "source": [
    "data = pd.read_csv(\"EKG_pupsniu_analize.csv\", sep = ';')\n",
    "X_scaled = data.drop(columns = ['label'], inplace = True)"
   ],
   "id": "9cc89989c1ff824f",
   "outputs": [],
   "execution_count": 6
  },
  {
   "metadata": {
    "ExecuteTime": {
     "end_time": "2025-10-09T09:36:45.524654Z",
     "start_time": "2025-10-09T09:36:45.060030Z"
    }
   },
   "cell_type": "code",
   "source": [
    "pca = PCA(n_components=32)\n",
    "X_pca = pca.fit_transform(X_scaled)\n",
    "\n",
    "X_train, X_test, y_train, y_test = train_test_split(X_pca, y, test_size=0.3, random_state=42)\n",
    "\n",
    "model = LogisticRegression()\n",
    "model.fit(X_train, y_train)\n",
    "\n",
    "y_pred = model.predict(X_test)"
   ],
   "id": "d14ec9a528950bb2",
   "outputs": [
    {
     "ename": "ValueError",
     "evalue": "Expected 2D array, got scalar array instead:\narray=nan.\nReshape your data either using array.reshape(-1, 1) if your data has a single feature or array.reshape(1, -1) if it contains a single sample.",
     "output_type": "error",
     "traceback": [
      "\u001B[31m---------------------------------------------------------------------------\u001B[39m",
      "\u001B[31mValueError\u001B[39m                                Traceback (most recent call last)",
      "\u001B[36mCell\u001B[39m\u001B[36m \u001B[39m\u001B[32mIn[8]\u001B[39m\u001B[32m, line 2\u001B[39m\n\u001B[32m      1\u001B[39m pca = PCA(n_components=\u001B[32m32\u001B[39m)\n\u001B[32m----> \u001B[39m\u001B[32m2\u001B[39m X_pca = \u001B[43mpca\u001B[49m\u001B[43m.\u001B[49m\u001B[43mfit_transform\u001B[49m\u001B[43m(\u001B[49m\u001B[43mX_scaled\u001B[49m\u001B[43m)\u001B[49m\n\u001B[32m      4\u001B[39m X_train, X_test, y_train, y_test = train_test_split(X_pca, y, test_size=\u001B[32m0.3\u001B[39m, random_state=\u001B[32m42\u001B[39m)\n\u001B[32m      6\u001B[39m model = LogisticRegression()\n",
      "\u001B[36mFile \u001B[39m\u001B[32m~\\3kursas\\dtms\\duomenu_tyryba_ir_masininis_mokymasis\\.venv\\Lib\\site-packages\\sklearn\\utils\\_set_output.py:316\u001B[39m, in \u001B[36m_wrap_method_output.<locals>.wrapped\u001B[39m\u001B[34m(self, X, *args, **kwargs)\u001B[39m\n\u001B[32m    314\u001B[39m \u001B[38;5;129m@wraps\u001B[39m(f)\n\u001B[32m    315\u001B[39m \u001B[38;5;28;01mdef\u001B[39;00m\u001B[38;5;250m \u001B[39m\u001B[34mwrapped\u001B[39m(\u001B[38;5;28mself\u001B[39m, X, *args, **kwargs):\n\u001B[32m--> \u001B[39m\u001B[32m316\u001B[39m     data_to_wrap = \u001B[43mf\u001B[49m\u001B[43m(\u001B[49m\u001B[38;5;28;43mself\u001B[39;49m\u001B[43m,\u001B[49m\u001B[43m \u001B[49m\u001B[43mX\u001B[49m\u001B[43m,\u001B[49m\u001B[43m \u001B[49m\u001B[43m*\u001B[49m\u001B[43margs\u001B[49m\u001B[43m,\u001B[49m\u001B[43m \u001B[49m\u001B[43m*\u001B[49m\u001B[43m*\u001B[49m\u001B[43mkwargs\u001B[49m\u001B[43m)\u001B[49m\n\u001B[32m    317\u001B[39m     \u001B[38;5;28;01mif\u001B[39;00m \u001B[38;5;28misinstance\u001B[39m(data_to_wrap, \u001B[38;5;28mtuple\u001B[39m):\n\u001B[32m    318\u001B[39m         \u001B[38;5;66;03m# only wrap the first output for cross decomposition\u001B[39;00m\n\u001B[32m    319\u001B[39m         return_tuple = (\n\u001B[32m    320\u001B[39m             _wrap_data_with_container(method, data_to_wrap[\u001B[32m0\u001B[39m], X, \u001B[38;5;28mself\u001B[39m),\n\u001B[32m    321\u001B[39m             *data_to_wrap[\u001B[32m1\u001B[39m:],\n\u001B[32m    322\u001B[39m         )\n",
      "\u001B[36mFile \u001B[39m\u001B[32m~\\3kursas\\dtms\\duomenu_tyryba_ir_masininis_mokymasis\\.venv\\Lib\\site-packages\\sklearn\\base.py:1365\u001B[39m, in \u001B[36m_fit_context.<locals>.decorator.<locals>.wrapper\u001B[39m\u001B[34m(estimator, *args, **kwargs)\u001B[39m\n\u001B[32m   1358\u001B[39m     estimator._validate_params()\n\u001B[32m   1360\u001B[39m \u001B[38;5;28;01mwith\u001B[39;00m config_context(\n\u001B[32m   1361\u001B[39m     skip_parameter_validation=(\n\u001B[32m   1362\u001B[39m         prefer_skip_nested_validation \u001B[38;5;129;01mor\u001B[39;00m global_skip_validation\n\u001B[32m   1363\u001B[39m     )\n\u001B[32m   1364\u001B[39m ):\n\u001B[32m-> \u001B[39m\u001B[32m1365\u001B[39m     \u001B[38;5;28;01mreturn\u001B[39;00m \u001B[43mfit_method\u001B[49m\u001B[43m(\u001B[49m\u001B[43mestimator\u001B[49m\u001B[43m,\u001B[49m\u001B[43m \u001B[49m\u001B[43m*\u001B[49m\u001B[43margs\u001B[49m\u001B[43m,\u001B[49m\u001B[43m \u001B[49m\u001B[43m*\u001B[49m\u001B[43m*\u001B[49m\u001B[43mkwargs\u001B[49m\u001B[43m)\u001B[49m\n",
      "\u001B[36mFile \u001B[39m\u001B[32m~\\3kursas\\dtms\\duomenu_tyryba_ir_masininis_mokymasis\\.venv\\Lib\\site-packages\\sklearn\\decomposition\\_pca.py:466\u001B[39m, in \u001B[36mPCA.fit_transform\u001B[39m\u001B[34m(self, X, y)\u001B[39m\n\u001B[32m    443\u001B[39m \u001B[38;5;129m@_fit_context\u001B[39m(prefer_skip_nested_validation=\u001B[38;5;28;01mTrue\u001B[39;00m)\n\u001B[32m    444\u001B[39m \u001B[38;5;28;01mdef\u001B[39;00m\u001B[38;5;250m \u001B[39m\u001B[34mfit_transform\u001B[39m(\u001B[38;5;28mself\u001B[39m, X, y=\u001B[38;5;28;01mNone\u001B[39;00m):\n\u001B[32m    445\u001B[39m \u001B[38;5;250m    \u001B[39m\u001B[33;03m\"\"\"Fit the model with X and apply the dimensionality reduction on X.\u001B[39;00m\n\u001B[32m    446\u001B[39m \n\u001B[32m    447\u001B[39m \u001B[33;03m    Parameters\u001B[39;00m\n\u001B[32m   (...)\u001B[39m\u001B[32m    464\u001B[39m \u001B[33;03m    C-ordered array, use 'np.ascontiguousarray'.\u001B[39;00m\n\u001B[32m    465\u001B[39m \u001B[33;03m    \"\"\"\u001B[39;00m\n\u001B[32m--> \u001B[39m\u001B[32m466\u001B[39m     U, S, _, X, x_is_centered, xp = \u001B[38;5;28;43mself\u001B[39;49m\u001B[43m.\u001B[49m\u001B[43m_fit\u001B[49m\u001B[43m(\u001B[49m\u001B[43mX\u001B[49m\u001B[43m)\u001B[49m\n\u001B[32m    467\u001B[39m     \u001B[38;5;28;01mif\u001B[39;00m U \u001B[38;5;129;01mis\u001B[39;00m \u001B[38;5;129;01mnot\u001B[39;00m \u001B[38;5;28;01mNone\u001B[39;00m:\n\u001B[32m    468\u001B[39m         U = U[:, : \u001B[38;5;28mself\u001B[39m.n_components_]\n",
      "\u001B[36mFile \u001B[39m\u001B[32m~\\3kursas\\dtms\\duomenu_tyryba_ir_masininis_mokymasis\\.venv\\Lib\\site-packages\\sklearn\\decomposition\\_pca.py:503\u001B[39m, in \u001B[36mPCA._fit\u001B[39m\u001B[34m(self, X)\u001B[39m\n\u001B[32m    493\u001B[39m     \u001B[38;5;28;01mraise\u001B[39;00m \u001B[38;5;167;01mValueError\u001B[39;00m(\n\u001B[32m    494\u001B[39m         \u001B[33m\"\u001B[39m\u001B[33mPCA with svd_solver=\u001B[39m\u001B[33m'\u001B[39m\u001B[33marpack\u001B[39m\u001B[33m'\u001B[39m\u001B[33m is not supported for Array API inputs.\u001B[39m\u001B[33m\"\u001B[39m\n\u001B[32m    495\u001B[39m     )\n\u001B[32m    497\u001B[39m \u001B[38;5;66;03m# Validate the data, without ever forcing a copy as any solver that\u001B[39;00m\n\u001B[32m    498\u001B[39m \u001B[38;5;66;03m# supports sparse input data and the `covariance_eigh` solver are\u001B[39;00m\n\u001B[32m    499\u001B[39m \u001B[38;5;66;03m# written in a way to avoid the need for any inplace modification of\u001B[39;00m\n\u001B[32m    500\u001B[39m \u001B[38;5;66;03m# the input data contrary to the other solvers.\u001B[39;00m\n\u001B[32m    501\u001B[39m \u001B[38;5;66;03m# The copy will happen\u001B[39;00m\n\u001B[32m    502\u001B[39m \u001B[38;5;66;03m# later, only if needed, once the solver negotiation below is done.\u001B[39;00m\n\u001B[32m--> \u001B[39m\u001B[32m503\u001B[39m X = \u001B[43mvalidate_data\u001B[49m\u001B[43m(\u001B[49m\n\u001B[32m    504\u001B[39m \u001B[43m    \u001B[49m\u001B[38;5;28;43mself\u001B[39;49m\u001B[43m,\u001B[49m\n\u001B[32m    505\u001B[39m \u001B[43m    \u001B[49m\u001B[43mX\u001B[49m\u001B[43m,\u001B[49m\n\u001B[32m    506\u001B[39m \u001B[43m    \u001B[49m\u001B[43mdtype\u001B[49m\u001B[43m=\u001B[49m\u001B[43m[\u001B[49m\u001B[43mxp\u001B[49m\u001B[43m.\u001B[49m\u001B[43mfloat64\u001B[49m\u001B[43m,\u001B[49m\u001B[43m \u001B[49m\u001B[43mxp\u001B[49m\u001B[43m.\u001B[49m\u001B[43mfloat32\u001B[49m\u001B[43m]\u001B[49m\u001B[43m,\u001B[49m\n\u001B[32m    507\u001B[39m \u001B[43m    \u001B[49m\u001B[43mforce_writeable\u001B[49m\u001B[43m=\u001B[49m\u001B[38;5;28;43;01mTrue\u001B[39;49;00m\u001B[43m,\u001B[49m\n\u001B[32m    508\u001B[39m \u001B[43m    \u001B[49m\u001B[43maccept_sparse\u001B[49m\u001B[43m=\u001B[49m\u001B[43m(\u001B[49m\u001B[33;43m\"\u001B[39;49m\u001B[33;43mcsr\u001B[39;49m\u001B[33;43m\"\u001B[39;49m\u001B[43m,\u001B[49m\u001B[43m \u001B[49m\u001B[33;43m\"\u001B[39;49m\u001B[33;43mcsc\u001B[39;49m\u001B[33;43m\"\u001B[39;49m\u001B[43m)\u001B[49m\u001B[43m,\u001B[49m\n\u001B[32m    509\u001B[39m \u001B[43m    \u001B[49m\u001B[43mensure_2d\u001B[49m\u001B[43m=\u001B[49m\u001B[38;5;28;43;01mTrue\u001B[39;49;00m\u001B[43m,\u001B[49m\n\u001B[32m    510\u001B[39m \u001B[43m    \u001B[49m\u001B[43mcopy\u001B[49m\u001B[43m=\u001B[49m\u001B[38;5;28;43;01mFalse\u001B[39;49;00m\u001B[43m,\u001B[49m\n\u001B[32m    511\u001B[39m \u001B[43m\u001B[49m\u001B[43m)\u001B[49m\n\u001B[32m    512\u001B[39m \u001B[38;5;28mself\u001B[39m._fit_svd_solver = \u001B[38;5;28mself\u001B[39m.svd_solver\n\u001B[32m    513\u001B[39m \u001B[38;5;28;01mif\u001B[39;00m \u001B[38;5;28mself\u001B[39m._fit_svd_solver == \u001B[33m\"\u001B[39m\u001B[33mauto\u001B[39m\u001B[33m\"\u001B[39m \u001B[38;5;129;01mand\u001B[39;00m issparse(X):\n",
      "\u001B[36mFile \u001B[39m\u001B[32m~\\3kursas\\dtms\\duomenu_tyryba_ir_masininis_mokymasis\\.venv\\Lib\\site-packages\\sklearn\\utils\\validation.py:2954\u001B[39m, in \u001B[36mvalidate_data\u001B[39m\u001B[34m(_estimator, X, y, reset, validate_separately, skip_check_array, **check_params)\u001B[39m\n\u001B[32m   2952\u001B[39m         out = X, y\n\u001B[32m   2953\u001B[39m \u001B[38;5;28;01melif\u001B[39;00m \u001B[38;5;129;01mnot\u001B[39;00m no_val_X \u001B[38;5;129;01mand\u001B[39;00m no_val_y:\n\u001B[32m-> \u001B[39m\u001B[32m2954\u001B[39m     out = \u001B[43mcheck_array\u001B[49m\u001B[43m(\u001B[49m\u001B[43mX\u001B[49m\u001B[43m,\u001B[49m\u001B[43m \u001B[49m\u001B[43minput_name\u001B[49m\u001B[43m=\u001B[49m\u001B[33;43m\"\u001B[39;49m\u001B[33;43mX\u001B[39;49m\u001B[33;43m\"\u001B[39;49m\u001B[43m,\u001B[49m\u001B[43m \u001B[49m\u001B[43m*\u001B[49m\u001B[43m*\u001B[49m\u001B[43mcheck_params\u001B[49m\u001B[43m)\u001B[49m\n\u001B[32m   2955\u001B[39m \u001B[38;5;28;01melif\u001B[39;00m no_val_X \u001B[38;5;129;01mand\u001B[39;00m \u001B[38;5;129;01mnot\u001B[39;00m no_val_y:\n\u001B[32m   2956\u001B[39m     out = _check_y(y, **check_params)\n",
      "\u001B[36mFile \u001B[39m\u001B[32m~\\3kursas\\dtms\\duomenu_tyryba_ir_masininis_mokymasis\\.venv\\Lib\\site-packages\\sklearn\\utils\\validation.py:1068\u001B[39m, in \u001B[36mcheck_array\u001B[39m\u001B[34m(array, accept_sparse, accept_large_sparse, dtype, order, copy, force_writeable, force_all_finite, ensure_all_finite, ensure_non_negative, ensure_2d, allow_nd, ensure_min_samples, ensure_min_features, estimator, input_name)\u001B[39m\n\u001B[32m   1065\u001B[39m \u001B[38;5;28;01mif\u001B[39;00m ensure_2d:\n\u001B[32m   1066\u001B[39m     \u001B[38;5;66;03m# If input is scalar raise error\u001B[39;00m\n\u001B[32m   1067\u001B[39m     \u001B[38;5;28;01mif\u001B[39;00m array.ndim == \u001B[32m0\u001B[39m:\n\u001B[32m-> \u001B[39m\u001B[32m1068\u001B[39m         \u001B[38;5;28;01mraise\u001B[39;00m \u001B[38;5;167;01mValueError\u001B[39;00m(\n\u001B[32m   1069\u001B[39m             \u001B[33m\"\u001B[39m\u001B[33mExpected 2D array, got scalar array instead:\u001B[39m\u001B[38;5;130;01m\\n\u001B[39;00m\u001B[33marray=\u001B[39m\u001B[38;5;132;01m{}\u001B[39;00m\u001B[33m.\u001B[39m\u001B[38;5;130;01m\\n\u001B[39;00m\u001B[33m\"\u001B[39m\n\u001B[32m   1070\u001B[39m             \u001B[33m\"\u001B[39m\u001B[33mReshape your data either using array.reshape(-1, 1) if \u001B[39m\u001B[33m\"\u001B[39m\n\u001B[32m   1071\u001B[39m             \u001B[33m\"\u001B[39m\u001B[33myour data has a single feature or array.reshape(1, -1) \u001B[39m\u001B[33m\"\u001B[39m\n\u001B[32m   1072\u001B[39m             \u001B[33m\"\u001B[39m\u001B[33mif it contains a single sample.\u001B[39m\u001B[33m\"\u001B[39m.format(array)\n\u001B[32m   1073\u001B[39m         )\n\u001B[32m   1074\u001B[39m     \u001B[38;5;66;03m# If input is 1D raise error\u001B[39;00m\n\u001B[32m   1075\u001B[39m     \u001B[38;5;28;01mif\u001B[39;00m array.ndim == \u001B[32m1\u001B[39m:\n\u001B[32m   1076\u001B[39m         \u001B[38;5;66;03m# If input is a Series-like object (eg. pandas Series or polars Series)\u001B[39;00m\n",
      "\u001B[31mValueError\u001B[39m: Expected 2D array, got scalar array instead:\narray=nan.\nReshape your data either using array.reshape(-1, 1) if your data has a single feature or array.reshape(1, -1) if it contains a single sample."
     ]
    }
   ],
   "execution_count": 8
  },
  {
   "metadata": {},
   "cell_type": "code",
   "outputs": [],
   "execution_count": null,
   "source": [
    "y_numeric = pd.factorize(y)[0]\n",
    "\n",
    "plt.figure(figsize=(12, 5))\n",
    "\n",
    "plt.subplot(1, 2, 1)\n",
    "plt.scatter(X_scaled[:, 0], X_scaled[:, 1], c=y_numeric, cmap='coolwarm', edgecolor='k', s=80)\n",
    "plt.xlabel('Original Feature 1')\n",
    "plt.ylabel('Original Feature 2')\n",
    "plt.title('Before PCA: Using First 2 Standardized Features')\n",
    "plt.colorbar(label='Target classes')\n",
    "\n",
    "plt.subplot(1, 2, 2)\n",
    "plt.scatter(X_pca[:, 0], X_pca[:, 1], c=y_numeric, cmap='coolwarm', edgecolor='k', s=80)\n",
    "plt.xlabel('Principal Component 1')\n",
    "plt.ylabel('Principal Component 2')\n",
    "plt.title('After PCA: Projected onto 2 Principal Components')\n",
    "plt.colorbar(label='Target classes')\n",
    "\n",
    "plt.tight_layout()\n",
    "plt.show()"
   ],
   "id": "b35ae64af8f72fc2"
  }
 ],
 "metadata": {
  "kernelspec": {
   "display_name": "Python 3",
   "language": "python",
   "name": "python3"
  },
  "language_info": {
   "codemirror_mode": {
    "name": "ipython",
    "version": 2
   },
   "file_extension": ".py",
   "mimetype": "text/x-python",
   "name": "python",
   "nbconvert_exporter": "python",
   "pygments_lexer": "ipython2",
   "version": "2.7.6"
  }
 },
 "nbformat": 4,
 "nbformat_minor": 5
}
