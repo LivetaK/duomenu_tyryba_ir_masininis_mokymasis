{
 "cells": [
  {
   "cell_type": "code",
   "id": "initial_id",
   "metadata": {
    "collapsed": true,
    "ExecuteTime": {
     "end_time": "2025-09-28T17:52:09.276324Z",
     "start_time": "2025-09-28T17:52:09.265328Z"
    }
   },
   "source": [
    "import pandas as pd\n",
    "from scipy.stats import pearsonr\n",
    "import itertools\n",
    "\n",
    "label_0 = pd.read_csv(\"final_clean_data/final_label_0.csv\")\n",
    "label_1 = pd.read_csv(\"final_clean_data/final_label_1.csv\")\n",
    "label_2 = pd.read_csv(\"final_clean_data/final_label_2.csv\")\n",
    "all_data = pd.read_csv(\"final_clean_data/final_clean_all_data.csv\")"
   ],
   "outputs": [],
   "execution_count": 12
  },
  {
   "metadata": {
    "ExecuteTime": {
     "end_time": "2025-09-28T17:52:10.260304Z",
     "start_time": "2025-09-28T17:52:10.254295Z"
    }
   },
   "cell_type": "code",
   "source": [
    "label_0.drop(columns = ['is_outlier', 'label'], inplace = True)\n",
    "label_1.drop(columns = ['is_outlier', 'label'], inplace = True)\n",
    "label_2.drop(columns = ['is_outlier', 'label'], inplace = True)\n",
    "all_data.drop(columns = ['is_outlier', 'label'], inplace = True)"
   ],
   "id": "9a6daf2107801373",
   "outputs": [],
   "execution_count": 13
  },
  {
   "metadata": {
    "ExecuteTime": {
     "end_time": "2025-09-28T17:52:39.617576Z",
     "start_time": "2025-09-28T17:52:39.606036Z"
    }
   },
   "cell_type": "code",
   "source": [
    "results = []\n",
    "df = all_data.copy()\n",
    "for col1, col2 in itertools.combinations(df.columns, 2):\n",
    "    corr_coef, p_value = pearsonr(df[col1], df[col2])\n",
    "    results.append({'Požymis 1': col1, 'Požymis 2': col2, 'Koreliacija': corr_coef, 'p reikšmė': p_value})\n",
    "\n",
    "results_df = pd.DataFrame(results)\n",
    "results_df['p reikšmė'] = results_df['p reikšmė'].round(4)\n",
    "results_df['Koreliacija'] = results_df['Koreliacija'].round(4)\n",
    "\n",
    "\n",
    "results_df.to_csv(\"final_koreliacija/all_data.csv\", index=False)"
   ],
   "id": "c327c83afb0f1011",
   "outputs": [],
   "execution_count": 17
  },
  {
   "metadata": {
    "ExecuteTime": {
     "end_time": "2025-09-28T17:58:41.315810Z",
     "start_time": "2025-09-28T17:58:41.302911Z"
    }
   },
   "cell_type": "code",
   "source": [
    "label_0_signal_std_r_val = label_0[[\"signal_std\", \"R_val\"]]\n",
    "label_1_signal_std_r_val = label_1[[\"signal_std\", \"R_val\"]]\n",
    "label_2_signal_std_r_val = label_2[[\"signal_std\", \"R_val\"]]\n",
    "\n",
    "label_0_signal_std_r_val.to_csv(\"final_sklaidos_diagramos/label_0_signal_std_r_val.csv\", index=False)\n",
    "label_1_signal_std_r_val.to_csv(\"final_sklaidos_diagramos/label_1_signal_std_r_val.csv\", index=False)\n",
    "label_2_signal_std_r_val.to_csv(\"final_sklaidos_diagramos/label_2_signal_std_r_val.csv\", index=False)"
   ],
   "id": "2e8885d96ff4f086",
   "outputs": [],
   "execution_count": 18
  }
 ],
 "metadata": {
  "kernelspec": {
   "display_name": "Python 3",
   "language": "python",
   "name": "python3"
  },
  "language_info": {
   "codemirror_mode": {
    "name": "ipython",
    "version": 2
   },
   "file_extension": ".py",
   "mimetype": "text/x-python",
   "name": "python",
   "nbconvert_exporter": "python",
   "pygments_lexer": "ipython2",
   "version": "2.7.6"
  }
 },
 "nbformat": 4,
 "nbformat_minor": 5
}
