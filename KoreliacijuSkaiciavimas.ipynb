{
 "cells": [
  {
   "cell_type": "code",
   "id": "initial_id",
   "metadata": {
    "collapsed": true,
    "ExecuteTime": {
     "end_time": "2025-09-22T20:12:51.693541Z",
     "start_time": "2025-09-22T20:12:51.683428Z"
    }
   },
   "source": [
    "import pandas as pd\n",
    "from scipy.stats import pearsonr\n",
    "import itertools\n",
    "\n",
    "label_0 = pd.read_csv(\"csv/clean_data_by_label/label_0.csv\")\n",
    "label_1 = pd.read_csv(\"csv/clean_data_by_label/label_1.csv\")\n",
    "label_2 = pd.read_csv(\"csv/clean_data_by_label/label_2.csv\")"
   ],
   "outputs": [],
   "execution_count": 30
  },
  {
   "metadata": {
    "ExecuteTime": {
     "end_time": "2025-09-22T19:40:48.372501Z",
     "start_time": "2025-09-22T19:40:48.360071Z"
    }
   },
   "cell_type": "code",
   "source": [
    "results = []\n",
    "df = label_2.copy()\n",
    "for col1, col2 in itertools.combinations(df.columns, 2):\n",
    "    corr_coef, p_value = pearsonr(df[col1], df[col2])\n",
    "    results.append({'Požymis 1': col1, 'Požymis 2': col2, 'Koreliacija': corr_coef, 'p reikšmė': p_value})\n",
    "\n",
    "results_df = pd.DataFrame(results)\n",
    "results_df['p reikšmė'] = results_df['p reikšmė'].round(4)\n",
    "results_df['Koreliacija'] = results_df['Koreliacija'].round(4)\n",
    "\n",
    "\n",
    "results_df.to_csv(\"koreliacija/label_2.csv\", index=False)"
   ],
   "id": "c327c83afb0f1011",
   "outputs": [],
   "execution_count": 27
  },
  {
   "metadata": {
    "ExecuteTime": {
     "end_time": "2025-09-22T20:16:04.655938Z",
     "start_time": "2025-09-22T20:16:04.642327Z"
    }
   },
   "cell_type": "code",
   "source": [
    "label_0_signal_std_r_val = label_0[[\"signal_std\", \"R_val\"]]\n",
    "label_1_signal_std_r_val = label_1[[\"signal_std\", \"R_val\"]]\n",
    "label_2_signal_std_r_val = label_2[[\"signal_std\", \"R_val\"]]\n",
    "\n",
    "label_0_signal_std_r_val.to_csv(\"sklaidos_diagramos/label_0_signal_std_r_val.csv\", index=False)\n",
    "label_1_signal_std_r_val.to_csv(\"sklaidos_diagramos/label_1_signal_std_r_val.csv\", index=False)\n",
    "label_2_signal_std_r_val.to_csv(\"sklaidos_diagramos/label_2_signal_std_r_val.csv\", index=False)"
   ],
   "id": "2e8885d96ff4f086",
   "outputs": [],
   "execution_count": 33
  }
 ],
 "metadata": {
  "kernelspec": {
   "display_name": "Python 3",
   "language": "python",
   "name": "python3"
  },
  "language_info": {
   "codemirror_mode": {
    "name": "ipython",
    "version": 2
   },
   "file_extension": ".py",
   "mimetype": "text/x-python",
   "name": "python",
   "nbconvert_exporter": "python",
   "pygments_lexer": "ipython2",
   "version": "2.7.6"
  }
 },
 "nbformat": 4,
 "nbformat_minor": 5
}
