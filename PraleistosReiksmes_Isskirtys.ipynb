﻿{
 "cells": [
  {
   "cell_type": "code",
   "id": "initial_id",
   "metadata": {
    "collapsed": true,
    "ExecuteTime": {
     "end_time": "2025-10-13T07:42:33.937789Z",
     "start_time": "2025-10-13T07:42:32.598460Z"
    }
   },
   "source": [
    "import pandas as pd\n",
    "import warnings\n",
    "\n",
    "warnings.filterwarnings(\"ignore\", category=DeprecationWarning)\n",
    "\n",
    "raw_data = pd.read_csv(\"EKG_pupsniu_analize.csv\", sep =\";\")"
   ],
   "outputs": [],
   "execution_count": 1
  },
  {
   "metadata": {
    "ExecuteTime": {
     "end_time": "2025-10-13T07:42:38.250639Z",
     "start_time": "2025-10-13T07:42:38.237501Z"
    }
   },
   "cell_type": "code",
   "source": [
    "\n",
    "seed = 6521\n",
    "data_seed = (\n",
    "    raw_data[raw_data[\"label\"].notna()]\n",
    "    .groupby(\"label\", group_keys=False)\n",
    "    .apply(lambda x: x.sample(n=500, replace=False, random_state=seed))\n",
    ") # atsitiktinai isrenkame po 500 irasu kiekvienai klasei\n",
    "\n"
   ],
   "id": "53ed2f4b75b32c75",
   "outputs": [
    {
     "name": "stderr",
     "output_type": "stream",
     "text": [
      "/var/folders/8m/2mjbvkv91xx273zl_4n42rsr0000gn/T/ipykernel_3399/3769168182.py:3: FutureWarning: DataFrameGroupBy.apply operated on the grouping columns. This behavior is deprecated, and in a future version of pandas the grouping columns will be excluded from the operation. Either pass `include_groups=False` to exclude the groupings or explicitly select the grouping columns after groupby to silence this warning.\n",
      "  raw_data[raw_data[\"label\"].notna()]\n"
     ]
    }
   ],
   "execution_count": 2
  },
  {
   "metadata": {
    "ExecuteTime": {
     "end_time": "2025-09-21T11:48:06.942557Z",
     "start_time": "2025-09-21T11:48:06.896010Z"
    }
   },
   "cell_type": "code",
   "source": "data_seed.to_csv(\"csv/raw_data_1500.csv\", index=False)",
   "id": "751dc02e1b866838",
   "outputs": [],
   "execution_count": 25
  },
  {
   "metadata": {
    "ExecuteTime": {
     "end_time": "2025-10-13T07:42:58.070352Z",
     "start_time": "2025-10-13T07:42:58.064470Z"
    }
   },
   "cell_type": "code",
   "source": [
    "cols_to_keep  = [\"signal_std\", \"wl_side\", \"R_val\", \"RR_r_0/RR_r_1\", \"P_val\", \"Q_val\", \"label\"] #tiriamieji pozymiai\n",
    "\n",
    "data_6 = data_seed[cols_to_keep] # paliekame tik reikalingus pozymius"
   ],
   "id": "c04c72a888ce50e0",
   "outputs": [],
   "execution_count": 3
  },
  {
   "metadata": {
    "ExecuteTime": {
     "end_time": "2025-09-21T11:48:43.517994Z",
     "start_time": "2025-09-21T11:48:43.502304Z"
    }
   },
   "cell_type": "code",
   "source": "data_6.to_csv(\"csv/raw_data_1500_6.csv\", index=False)",
   "id": "d579f3005b21e2e",
   "outputs": [],
   "execution_count": 26
  },
  {
   "metadata": {
    "ExecuteTime": {
     "end_time": "2025-10-13T07:43:03.172604Z",
     "start_time": "2025-10-13T07:43:03.166493Z"
    }
   },
   "cell_type": "code",
   "source": [
    "missing = data_6.isna().sum() # tikriname, kiek ya praleistu reiksmiu\n",
    "print(missing)\n"
   ],
   "id": "b02d107823ed81ae",
   "outputs": [
    {
     "name": "stdout",
     "output_type": "stream",
     "text": [
      "signal_std       0\n",
      "wl_side          0\n",
      "R_val            0\n",
      "RR_r_0/RR_r_1    2\n",
      "P_val            0\n",
      "Q_val            0\n",
      "label            0\n",
      "dtype: int64\n"
     ]
    }
   ],
   "execution_count": 4
  },
  {
   "metadata": {
    "ExecuteTime": {
     "end_time": "2025-10-13T07:43:09.061499Z",
     "start_time": "2025-10-13T07:43:09.057178Z"
    }
   },
   "cell_type": "code",
   "source": "data = data_6[data_6[\"RR_r_0/RR_r_1\"].notna()] #saliname irasus su praleistomis reiksmemis\n",
   "id": "62ce749366818bf3",
   "outputs": [],
   "execution_count": 5
  },
  {
   "metadata": {
    "ExecuteTime": {
     "end_time": "2025-10-13T07:43:13.126807Z",
     "start_time": "2025-10-13T07:43:13.108576Z"
    }
   },
   "cell_type": "code",
   "source": "data.to_csv(\"csv/raw_data_1498_6.csv\", index = False)",
   "id": "25e46127ecbad117",
   "outputs": [],
   "execution_count": 6
  },
  {
   "metadata": {
    "ExecuteTime": {
     "end_time": "2025-09-28T19:19:48.479907Z",
     "start_time": "2025-09-28T19:19:48.472022Z"
    }
   },
   "cell_type": "code",
   "source": "all_data = pd.read_csv(\"csv/raw_data_1498_6.csv\")",
   "id": "b18c32e73eb286f6",
   "outputs": [],
   "execution_count": 7
  },
  {
   "metadata": {
    "ExecuteTime": {
     "end_time": "2025-09-28T19:20:58.394937Z",
     "start_time": "2025-09-28T19:20:58.388600Z"
    }
   },
   "cell_type": "code",
   "source": [
    "# isskirstome duomenis i tris skirtingas aibes pagal klases\n",
    "\n",
    "label_0 = data.loc[data[\"label\"] == 0]\n",
    "label_1 = data.loc[data[\"label\"] == 1]\n",
    "label_2 = data.loc[data[\"label\"] == 2]\n",
    "print(len(label_0), len(label_1), len(label_2))"
   ],
   "id": "a31b8aa7252bbbe4",
   "outputs": [
    {
     "name": "stdout",
     "output_type": "stream",
     "text": [
      "498 500 500\n"
     ]
    }
   ],
   "execution_count": 8
  },
  {
   "metadata": {
    "ExecuteTime": {
     "end_time": "2025-09-28T19:23:49.008953Z",
     "start_time": "2025-09-28T19:23:48.992879Z"
    }
   },
   "cell_type": "code",
   "source": [
    "columns  = [\"signal_std\", \"wl_side\", \"R_val\", \"RR_r_0/RR_r_1\", \"P_val\", \"Q_val\"] #tam, kad tiriant pozymisu nebutu label\n",
    "def is_it_outlier(data):\n",
    "    data = data.copy()\n",
    "    data['is_outlier'] = False\n",
    "    for col in columns:\n",
    "        column = pd.to_numeric(data[col])\n",
    "        Q1 = column.quantile(0.25)\n",
    "        Q3 = column.quantile(0.75)\n",
    "        IQR = Q3 - Q1\n",
    "        lower_bound = Q1 - 3 * IQR\n",
    "        upper_bound = Q3 + 3 * IQR\n",
    "\n",
    "        mask = (column < lower_bound) | (column > upper_bound)\n",
    "        data.loc[mask, 'is_outlier'] = True\n",
    "    return data\n",
    "\n",
    "temp_data = is_it_outlier(all_data)\n",
    "mask = temp_data['is_outlier'] == True\n",
    "clean_all_data = temp_data.loc[~mask] # saliname isskirtis"
   ],
   "id": "91b8a5369e5c78fc",
   "outputs": [
    {
     "name": "stdout",
     "output_type": "stream",
     "text": [
      "1381\n"
     ]
    }
   ],
   "execution_count": 10
  },
  {
   "metadata": {
    "ExecuteTime": {
     "end_time": "2025-09-28T19:27:02.562228Z",
     "start_time": "2025-09-28T19:27:02.549193Z"
    }
   },
   "cell_type": "code",
   "source": [
    "def outliers_function(data, column, factor): #funkcija isskirtims nustatyti\n",
    "    col = pd.to_numeric(data[column]).astype(float)\n",
    "\n",
    "    Q1 = col.quantile(0.25)\n",
    "    Q3 = col.quantile(0.75)\n",
    "    IQR = Q3 - Q1\n",
    "\n",
    "    lower_15 = Q1 - 1.5 * IQR\n",
    "    upper_15 = Q3 + 1.5 * IQR\n",
    "    lower_3 = Q1 - 3 * IQR\n",
    "    upper_3 = Q3 + 3 * IQR\n",
    "\n",
    "\n",
    "    if factor == 3:  # ekstremalios isskirtys\n",
    "        out = col[(col < lower_3) | (col > upper_3)]\n",
    "\n",
    "    elif factor == 1.5:  # salygines isskirtys\n",
    "        out = col[((col < lower_15) & (col >= lower_3)) |\n",
    "                  ((col > upper_15) & (col <= upper_3))]\n",
    "\n",
    "    return out\n",
    "\n",
    "for col in columns:\n",
    "    outlier = outliers_function(all_data, col, 3)\n",
    "    extreme_sum = len(outlier)\n",
    "    print(f\"{col} outliers: {extreme_sum}\")"
   ],
   "id": "839b429e2466791a",
   "outputs": [
    {
     "name": "stdout",
     "output_type": "stream",
     "text": [
      "signal_std outliers: 0\n",
      "wl_side outliers: 0\n",
      "R_val outliers: 0\n",
      "RR_r_0/RR_r_1 outliers: 43\n",
      "P_val outliers: 0\n",
      "Q_val outliers: 74\n"
     ]
    }
   ],
   "execution_count": 12
  },
  {
   "metadata": {
    "ExecuteTime": {
     "end_time": "2025-09-21T11:42:29.962581Z",
     "start_time": "2025-09-21T11:42:29.932928Z"
    }
   },
   "cell_type": "code",
   "source": "clean_all_data.to_csv(\"final_clean_all_data.csv\", index=False)",
   "id": "492563c4f5698e2a",
   "outputs": [],
   "execution_count": 23
  },
  {
   "metadata": {},
   "cell_type": "code",
   "outputs": [],
   "execution_count": null,
   "source": [
    "mask = clean_all_data[\"label\"] == 0\n",
    "label_0 = clean_all_data.loc[mask]\n",
    "label_0.to_csv(\"final_clean_data/final_label_0.csv\", index = False)\n",
    "\n",
    "mask = clean_all_data[\"label\"] == 1\n",
    "label_1 = clean_all_data.loc[mask]\n",
    "label_1.to_csv(\"final_clean_data/final_label_1.csv\", index = False)\n",
    "\n",
    "mask = clean_all_data[\"label\"] == 2\n",
    "label_2 = clean_all_data.loc[mask]\n",
    "label_2.to_csv(\"final_clean_data/final_label_2.csv\", index = False)"
   ],
   "id": "d23de2b3c831f2b"
  }
 ],
 "metadata": {
  "kernelspec": {
   "display_name": "Python 3",
   "language": "python",
   "name": "python3"
  },
  "language_info": {
   "codemirror_mode": {
    "name": "ipython",
    "version": 2
   },
   "file_extension": ".py",
   "mimetype": "text/x-python",
   "name": "python",
   "nbconvert_exporter": "python",
   "pygments_lexer": "ipython2",
   "version": "2.7.6"
  }
 },
 "nbformat": 4,
 "nbformat_minor": 5
}
