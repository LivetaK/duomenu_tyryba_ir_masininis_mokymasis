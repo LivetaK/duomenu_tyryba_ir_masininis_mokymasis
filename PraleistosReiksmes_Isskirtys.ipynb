﻿{
 "cells": [
  {
   "cell_type": "code",
   "id": "initial_id",
   "metadata": {
    "collapsed": true,
    "ExecuteTime": {
     "end_time": "2025-09-21T11:42:16.583558Z",
     "start_time": "2025-09-21T11:42:16.523703Z"
    }
   },
   "source": [
    "import pandas as pd\n",
    "import warnings\n",
    "\n",
    "warnings.filterwarnings(\"ignore\", category=DeprecationWarning)\n",
    "\n",
    "raw_data = pd.read_csv(\"EKG_pupsniu_analize.csv\", sep =\";\")"
   ],
   "outputs": [],
   "execution_count": 14
  },
  {
   "metadata": {
    "ExecuteTime": {
     "end_time": "2025-09-21T11:42:17.500086Z",
     "start_time": "2025-09-21T11:42:17.488320Z"
    }
   },
   "cell_type": "code",
   "source": [
    "\n",
    "seed = 6521\n",
    "data_seed = (\n",
    "    raw_data[raw_data[\"label\"].notna()]\n",
    "    .groupby(\"label\", group_keys=False)\n",
    "    .apply(lambda x: x.sample(n=500, replace=False, random_state=seed))\n",
    ") # atsitiktinai isrenkame po 500 irasu kiekvienai klasei\n",
    "\n"
   ],
   "id": "53ed2f4b75b32c75",
   "outputs": [],
   "execution_count": 15
  },
  {
   "metadata": {
    "ExecuteTime": {
     "end_time": "2025-09-21T11:42:18.410177Z",
     "start_time": "2025-09-21T11:42:18.406366Z"
    }
   },
   "cell_type": "code",
   "source": [
    "cols_to_keep  = [\"signal_std\", \"wl_side\", \"R_val\", \"RR_r_0/RR_r_1\", \"P_val\", \"Q_val\", \"label\"] #tiriamieji pozymiai\n",
    "\n",
    "data_6 = data_seed[cols_to_keep] # paliekame tik reikalingus pozymius"
   ],
   "id": "c04c72a888ce50e0",
   "outputs": [],
   "execution_count": 16
  },
  {
   "metadata": {
    "ExecuteTime": {
     "end_time": "2025-09-21T11:42:19.930126Z",
     "start_time": "2025-09-21T11:42:19.924877Z"
    }
   },
   "cell_type": "code",
   "source": [
    "missing = data_6.isna().sum() # tikriname, kiek ya praleistu reiksmiu\n",
    "print(missing)\n"
   ],
   "id": "b02d107823ed81ae",
   "outputs": [
    {
     "name": "stdout",
     "output_type": "stream",
     "text": [
      "signal_std       0\n",
      "wl_side          0\n",
      "R_val            0\n",
      "RR_r_0/RR_r_1    2\n",
      "P_val            0\n",
      "Q_val            0\n",
      "label            0\n",
      "dtype: int64\n"
     ]
    }
   ],
   "execution_count": 17
  },
  {
   "metadata": {
    "ExecuteTime": {
     "end_time": "2025-09-21T11:42:21.541547Z",
     "start_time": "2025-09-21T11:42:21.379946Z"
    }
   },
   "cell_type": "code",
   "source": "data = data_6[data_6[\"RR_r_0/RR_r_1\"].notna()] #saliname irasus su praleistomis reiksmemis\n",
   "id": "62ce749366818bf3",
   "outputs": [],
   "execution_count": 18
  },
  {
   "metadata": {
    "ExecuteTime": {
     "end_time": "2025-09-21T11:42:22.126376Z",
     "start_time": "2025-09-21T11:42:22.120467Z"
    }
   },
   "cell_type": "code",
   "source": [
    "# isskirstome duomenis i tris skirtingas aibes pagal klases\n",
    "\n",
    "label_0 = data.loc[data[\"label\"] == 0]\n",
    "label_1 = data.loc[data[\"label\"] == 1]\n",
    "label_2 = data.loc[data[\"label\"] == 2]\n",
    "print(len(label_0), len(label_1), len(label_2))"
   ],
   "id": "a31b8aa7252bbbe4",
   "outputs": [
    {
     "name": "stdout",
     "output_type": "stream",
     "text": [
      "498 500 500\n"
     ]
    }
   ],
   "execution_count": 19
  },
  {
   "metadata": {
    "ExecuteTime": {
     "end_time": "2025-09-21T11:42:23.294485Z",
     "start_time": "2025-09-21T11:42:23.265978Z"
    }
   },
   "cell_type": "code",
   "source": [
    "def outliers_function(data, column, factor): #funkcija isskirtims nustatyti\n",
    "    col = pd.to_numeric(data[column]).astype(float)\n",
    "\n",
    "    Q1 = col.quantile(0.25)\n",
    "    Q3 = col.quantile(0.75)\n",
    "    IQR = Q3 - Q1\n",
    "\n",
    "    lower = Q1 - factor * IQR\n",
    "    upper = Q3 + factor * IQR\n",
    "\n",
    "    out = col[(col < lower) | (col > upper)]\n",
    "    return out\n",
    "\n",
    "dataframes = [label_0, label_1, label_2]\n",
    "\n",
    "columns  = [\"signal_std\", \"wl_side\", \"R_val\", \"RR_r_0/RR_r_1\", \"P_val\", \"Q_val\"] #tam, kad tiriant pozymisu nebutu label\n",
    "\n",
    "for i, data_to_inspect in enumerate(dataframes, start=0): #sukame cikla visu klasiu pozymiu isskirtims nustatyti\n",
    "    print(f\"Inspecting label_{i}\")\n",
    "    print(\"---------------------------------\")\n",
    "    for col in columns:\n",
    "        outlier = outliers_function(data_to_inspect, col, 3)\n",
    "        extreme_sum = len(outlier)\n",
    "        print(f\"{col} extreme_outliers: {extreme_sum}\")\n",
    "    print(\"*********************************\")\n"
   ],
   "id": "91b8a5369e5c78fc",
   "outputs": [
    {
     "name": "stdout",
     "output_type": "stream",
     "text": [
      "Inspecting label_0\n",
      "---------------------------------\n",
      "signal_std extreme_outliers: 9\n",
      "wl_side extreme_outliers: 0\n",
      "R_val extreme_outliers: 0\n",
      "RR_r_0/RR_r_1 extreme_outliers: 32\n",
      "P_val extreme_outliers: 15\n",
      "Q_val extreme_outliers: 0\n",
      "*********************************\n",
      "Inspecting label_1\n",
      "---------------------------------\n",
      "signal_std extreme_outliers: 21\n",
      "wl_side extreme_outliers: 0\n",
      "R_val extreme_outliers: 8\n",
      "RR_r_0/RR_r_1 extreme_outliers: 1\n",
      "P_val extreme_outliers: 4\n",
      "Q_val extreme_outliers: 4\n",
      "*********************************\n",
      "Inspecting label_2\n",
      "---------------------------------\n",
      "signal_std extreme_outliers: 0\n",
      "wl_side extreme_outliers: 1\n",
      "R_val extreme_outliers: 0\n",
      "RR_r_0/RR_r_1 extreme_outliers: 0\n",
      "P_val extreme_outliers: 0\n",
      "Q_val extreme_outliers: 4\n",
      "*********************************\n"
     ]
    }
   ],
   "execution_count": 20
  },
  {
   "metadata": {
    "ExecuteTime": {
     "end_time": "2025-09-21T11:42:25.949129Z",
     "start_time": "2025-09-21T11:42:25.921140Z"
    }
   },
   "cell_type": "code",
   "source": [
    "def is_it_outlier(data):\n",
    "    data = data.copy()\n",
    "    data['is_outlier'] = False\n",
    "    for col in columns:\n",
    "        column = pd.to_numeric(data[col])\n",
    "        Q1 = column.quantile(0.25)\n",
    "        Q3 = column.quantile(0.75)\n",
    "        IQR = Q3 - Q1\n",
    "        lower_bound = Q1 - 3 * IQR\n",
    "        upper_bound = Q3 + 3 * IQR\n",
    "\n",
    "        mask = (column < lower_bound) | (column > upper_bound)\n",
    "        data.loc[mask, 'is_outlier'] = True\n",
    "    return data\n",
    "\n",
    "\n",
    "temp_data = is_it_outlier(label_0)\n",
    "mask = temp_data['is_outlier'] == True\n",
    "clean_label_0_data = temp_data.loc[~mask]\n",
    "\n",
    "temp_data = is_it_outlier(label_1)\n",
    "mask = temp_data['is_outlier'] == True\n",
    "clean_label_1_data = temp_data.loc[~mask]\n",
    "\n",
    "temp_data = is_it_outlier(label_2)\n",
    "mask = temp_data['is_outlier'] == True\n",
    "clean_label_2_data = temp_data.loc[~mask]\n",
    "cleaned_data = [clean_label_0_data, clean_label_1_data, clean_label_2_data]\n"
   ],
   "id": "38a3acfbd662c9d4",
   "outputs": [],
   "execution_count": 21
  },
  {
   "metadata": {
    "ExecuteTime": {
     "end_time": "2025-09-21T11:42:28.054704Z",
     "start_time": "2025-09-21T11:42:28.028582Z"
    }
   },
   "cell_type": "code",
   "source": [
    "for i, data in enumerate(cleaned_data, start=0):\n",
    "    print(f\"investigating label_{i}\")\n",
    "    print(\"count: \", len(data))\n",
    "    print()\n",
    "    for col in columns:\n",
    "        outlier = outliers_function(data, col, 3)\n",
    "        extreme_sum = len(outlier)\n",
    "        print(f\"{col} extreme outliers: {extreme_sum}\")\n",
    "    print(\"**********************************\")"
   ],
   "id": "48ad1b9649baaa95",
   "outputs": [
    {
     "name": "stdout",
     "output_type": "stream",
     "text": [
      "investigating label_0\n",
      "count:  453\n",
      "\n",
      "signal_std extreme outliers: 50\n",
      "wl_side extreme outliers: 0\n",
      "R_val extreme outliers: 0\n",
      "RR_r_0/RR_r_1 extreme outliers: 1\n",
      "P_val extreme outliers: 2\n",
      "Q_val extreme outliers: 0\n",
      "**********************************\n",
      "investigating label_1\n",
      "count:  476\n",
      "\n",
      "signal_std extreme outliers: 4\n",
      "wl_side extreme outliers: 24\n",
      "R_val extreme outliers: 1\n",
      "RR_r_0/RR_r_1 extreme outliers: 0\n",
      "P_val extreme outliers: 1\n",
      "Q_val extreme outliers: 0\n",
      "**********************************\n",
      "investigating label_2\n",
      "count:  495\n",
      "\n",
      "signal_std extreme outliers: 0\n",
      "wl_side extreme outliers: 0\n",
      "R_val extreme outliers: 0\n",
      "RR_r_0/RR_r_1 extreme outliers: 0\n",
      "P_val extreme outliers: 0\n",
      "Q_val extreme outliers: 0\n",
      "**********************************\n"
     ]
    }
   ],
   "execution_count": 22
  },
  {
   "metadata": {
    "ExecuteTime": {
     "end_time": "2025-09-21T11:42:29.962581Z",
     "start_time": "2025-09-21T11:42:29.932928Z"
    }
   },
   "cell_type": "code",
   "source": [
    "clean_label_0_data = clean_label_0_data.drop(columns=[\"is_outlier\"])\n",
    "clean_label_1_data = clean_label_1_data.drop(columns=[\"is_outlier\"])\n",
    "clean_label_2_data = clean_label_2_data.drop(columns=[\"is_outlier\"])\n",
    "data = pd.concat([clean_label_0_data, clean_label_1_data, clean_label_2_data], ignore_index=True)\n",
    "\n",
    "clean_label_0_data.to_csv(\"csv/labels/label_0.csv\", index=False)\n",
    "clean_label_1_data.to_csv(\"csv/labels/label_1.csv\", index=False)\n",
    "clean_label_2_data.to_csv(\"csv/labels/label_2.csv\", index=False)\n",
    "data.to_csv(\"csv/clean_data.csv\", index=False)\n"
   ],
   "id": "492563c4f5698e2a",
   "outputs": [],
   "execution_count": 23
  },
  {
   "metadata": {
    "ExecuteTime": {
     "end_time": "2025-09-20T13:40:02.715017Z",
     "start_time": "2025-09-20T13:40:02.610880Z"
    }
   },
   "cell_type": "code",
   "source": [
    "import matplotlib.pyplot as plt\n",
    "\n",
    "\n",
    "plt.boxplot(label_1['signal_std'])\n",
    "\n",
    "plt.show()\n",
    "plt.boxplot(label_2['signal_std'])\n",
    "plt.show()\n",
    "\n"
   ],
   "id": "edfc65b535576650",
   "outputs": [
    {
     "data": {
      "text/plain": [
       "<Figure size 640x480 with 1 Axes>"
      ],
      "image/png": "[encoded data removed]"
     },
     "metadata": {},
     "output_type": "display_data",
     "jetTransient": {
      "display_id": null
     }
    },
    {
     "data": {
      "text/plain": [
       "<Figure size 640x480 with 1 Axes>"
      ],
      "image/png": "[encoded data removed]"
     },
     "metadata": {},
     "output_type": "display_data",
     "jetTransient": {
      "display_id": null
     }
    }
   ],
   "execution_count": 20
  }
 ],
 "metadata": {
  "kernelspec": {
   "display_name": "Python 3",
   "language": "python",
   "name": "python3"
  },
  "language_info": {
   "codemirror_mode": {
    "name": "ipython",
    "version": 2
   },
   "file_extension": ".py",
   "mimetype": "text/x-python",
   "name": "python",
   "nbconvert_exporter": "python",
   "pygments_lexer": "ipython2",
   "version": "2.7.6"
  }
 },
 "nbformat": 4,
 "nbformat_minor": 5
}
