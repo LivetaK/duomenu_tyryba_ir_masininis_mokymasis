﻿{
 "cells": [
  {
   "cell_type": "code",
   "id": "initial_id",
   "metadata": {
    "collapsed": true,
    "ExecuteTime": {
     "end_time": "2025-10-14T08:46:46.482421Z",
     "start_time": "2025-10-14T08:46:46.418216Z"
    }
   },
   "source": [
    "import pandas as pd\n",
    "import warnings\n",
    "\n",
    "warnings.filterwarnings(\"ignore\", category=DeprecationWarning)\n",
    "\n",
    "raw_data = pd.read_csv(\"EKG_pupsniu_analize.csv\", sep =\";\")"
   ],
   "outputs": [],
   "execution_count": 1
  },
  {
   "metadata": {
    "ExecuteTime": {
     "end_time": "2025-10-14T08:46:52.614118Z",
     "start_time": "2025-10-14T08:46:52.582283Z"
    }
   },
   "cell_type": "code",
   "source": "raw_data",
   "id": "5fc49e3cc0d2af90",
   "outputs": [
    {
     "data": {
      "text/plain": [
       "       RR_l_0  RR_l_0/RR_l_1  RR_l_1  RR_l_1/RR_l_2  RR_l_2  RR_l_2/RR_l_3  \\\n",
       "0       163.0       1.006173   162.0       1.006211   161.0       1.025478   \n",
       "1       162.0       1.006211   161.0       1.025478   157.0       1.032895   \n",
       "2       161.0       1.025478   157.0       1.032895   152.0       0.993464   \n",
       "3       157.0       1.032895   152.0       0.993464   153.0       0.993506   \n",
       "4       152.0       0.993464   153.0       0.993506   154.0       0.962500   \n",
       "...       ...            ...     ...            ...     ...            ...   \n",
       "11935   116.0       1.506494    77.0       0.516779   149.0       1.839506   \n",
       "11936   153.0       1.961538    78.0       0.509804   153.0       1.700000   \n",
       "11937   128.0       0.977099   131.0       0.956204   137.0       1.062016   \n",
       "11938   134.0       0.992593   135.0       0.971223   139.0       1.037313   \n",
       "11939   131.0       1.015504   129.0       0.992308   130.0       0.970149   \n",
       "\n",
       "       RR_l_3  RR_l_3/RR_l_4 RR_r_0       RR_r_0/RR_r_1  ...     Q_val  \\\n",
       "0       157.0       1.032895  160.0   1.019108280254777  ... -0.478559   \n",
       "1       152.0       0.993464  157.0  1.0064102564102564  ... -0.435035   \n",
       "2       153.0       0.993506  156.0  0.9811320754716981  ... -0.412486   \n",
       "3       154.0       0.962500  159.0  1.0127388535031847  ... -0.398859   \n",
       "4       160.0       0.952381  157.0  0.9515151515151515  ... -0.378127   \n",
       "...       ...            ...    ...                 ...  ...       ...   \n",
       "11935    81.0       0.515924  147.0   1.185483870967742  ... -0.336925   \n",
       "11936    90.0       0.612245  164.0  1.3553719008264462  ...  0.298529   \n",
       "11937   129.0       1.000000  169.0                 1.3  ...  0.004656   \n",
       "11938   134.0       1.022901  179.0  1.3065693430656935  ... -0.126056   \n",
       "11939   134.0       1.022901  174.0  1.3181818181818181  ... -0.169363   \n",
       "\n",
       "          R_val     S_val     T_val  P_pos  Q_pos  R_pos  S_pos  T_pos  label  \n",
       "0      1.200719 -0.364887 -0.234295  0.385  0.485  0.515  0.535  0.820    0.0  \n",
       "1      1.038892 -0.356168 -0.220179  0.390  0.490  0.510  0.530  0.875    0.0  \n",
       "2      0.945564 -0.373377 -0.209684  0.335  0.480  0.500  0.520  0.810    0.0  \n",
       "3      0.926406 -0.344995 -0.159368  0.355  0.475  0.495  0.520  0.790    0.0  \n",
       "4      1.206714 -0.250729 -0.127746  0.380  0.480  0.505  0.530  0.835    0.0  \n",
       "...         ...       ...       ...    ...    ...    ...    ...    ...    ...  \n",
       "11935  1.275027 -1.356683 -0.181837  0.355  0.245  0.385  0.430  0.675    2.0  \n",
       "11936  0.775469 -0.126409  0.148571  0.535  0.455  0.610  0.760  0.695    2.0  \n",
       "11937  0.956034  0.791660  0.827525  0.285  0.265  0.350  0.385  0.390    2.0  \n",
       "11938  0.747329  0.518987  0.518987  0.260  0.245  0.335  0.370  0.370    2.0  \n",
       "11939  0.982999  0.795288  0.795288  0.275  0.260  0.350  0.380  0.380    2.0  \n",
       "\n",
       "[11940 rows x 32 columns]"
      ],
      "text/html": [
       "<div>\n",
       "<style scoped>\n",
       "    .dataframe tbody tr th:only-of-type {\n",
       "        vertical-align: middle;\n",
       "    }\n",
       "\n",
       "    .dataframe tbody tr th {\n",
       "        vertical-align: top;\n",
       "    }\n",
       "\n",
       "    .dataframe thead th {\n",
       "        text-align: right;\n",
       "    }\n",
       "</style>\n",
       "<table border=\"1\" class=\"dataframe\">\n",
       "  <thead>\n",
       "    <tr style=\"text-align: right;\">\n",
       "      <th></th>\n",
       "      <th>RR_l_0</th>\n",
       "      <th>RR_l_0/RR_l_1</th>\n",
       "      <th>RR_l_1</th>\n",
       "      <th>RR_l_1/RR_l_2</th>\n",
       "      <th>RR_l_2</th>\n",
       "      <th>RR_l_2/RR_l_3</th>\n",
       "      <th>RR_l_3</th>\n",
       "      <th>RR_l_3/RR_l_4</th>\n",
       "      <th>RR_r_0</th>\n",
       "      <th>RR_r_0/RR_r_1</th>\n",
       "      <th>...</th>\n",
       "      <th>Q_val</th>\n",
       "      <th>R_val</th>\n",
       "      <th>S_val</th>\n",
       "      <th>T_val</th>\n",
       "      <th>P_pos</th>\n",
       "      <th>Q_pos</th>\n",
       "      <th>R_pos</th>\n",
       "      <th>S_pos</th>\n",
       "      <th>T_pos</th>\n",
       "      <th>label</th>\n",
       "    </tr>\n",
       "  </thead>\n",
       "  <tbody>\n",
       "    <tr>\n",
       "      <th>0</th>\n",
       "      <td>163.0</td>\n",
       "      <td>1.006173</td>\n",
       "      <td>162.0</td>\n",
       "      <td>1.006211</td>\n",
       "      <td>161.0</td>\n",
       "      <td>1.025478</td>\n",
       "      <td>157.0</td>\n",
       "      <td>1.032895</td>\n",
       "      <td>160.0</td>\n",
       "      <td>1.019108280254777</td>\n",
       "      <td>...</td>\n",
       "      <td>-0.478559</td>\n",
       "      <td>1.200719</td>\n",
       "      <td>-0.364887</td>\n",
       "      <td>-0.234295</td>\n",
       "      <td>0.385</td>\n",
       "      <td>0.485</td>\n",
       "      <td>0.515</td>\n",
       "      <td>0.535</td>\n",
       "      <td>0.820</td>\n",
       "      <td>0.0</td>\n",
       "    </tr>\n",
       "    <tr>\n",
       "      <th>1</th>\n",
       "      <td>162.0</td>\n",
       "      <td>1.006211</td>\n",
       "      <td>161.0</td>\n",
       "      <td>1.025478</td>\n",
       "      <td>157.0</td>\n",
       "      <td>1.032895</td>\n",
       "      <td>152.0</td>\n",
       "      <td>0.993464</td>\n",
       "      <td>157.0</td>\n",
       "      <td>1.0064102564102564</td>\n",
       "      <td>...</td>\n",
       "      <td>-0.435035</td>\n",
       "      <td>1.038892</td>\n",
       "      <td>-0.356168</td>\n",
       "      <td>-0.220179</td>\n",
       "      <td>0.390</td>\n",
       "      <td>0.490</td>\n",
       "      <td>0.510</td>\n",
       "      <td>0.530</td>\n",
       "      <td>0.875</td>\n",
       "      <td>0.0</td>\n",
       "    </tr>\n",
       "    <tr>\n",
       "      <th>2</th>\n",
       "      <td>161.0</td>\n",
       "      <td>1.025478</td>\n",
       "      <td>157.0</td>\n",
       "      <td>1.032895</td>\n",
       "      <td>152.0</td>\n",
       "      <td>0.993464</td>\n",
       "      <td>153.0</td>\n",
       "      <td>0.993506</td>\n",
       "      <td>156.0</td>\n",
       "      <td>0.9811320754716981</td>\n",
       "      <td>...</td>\n",
       "      <td>-0.412486</td>\n",
       "      <td>0.945564</td>\n",
       "      <td>-0.373377</td>\n",
       "      <td>-0.209684</td>\n",
       "      <td>0.335</td>\n",
       "      <td>0.480</td>\n",
       "      <td>0.500</td>\n",
       "      <td>0.520</td>\n",
       "      <td>0.810</td>\n",
       "      <td>0.0</td>\n",
       "    </tr>\n",
       "    <tr>\n",
       "      <th>3</th>\n",
       "      <td>157.0</td>\n",
       "      <td>1.032895</td>\n",
       "      <td>152.0</td>\n",
       "      <td>0.993464</td>\n",
       "      <td>153.0</td>\n",
       "      <td>0.993506</td>\n",
       "      <td>154.0</td>\n",
       "      <td>0.962500</td>\n",
       "      <td>159.0</td>\n",
       "      <td>1.0127388535031847</td>\n",
       "      <td>...</td>\n",
       "      <td>-0.398859</td>\n",
       "      <td>0.926406</td>\n",
       "      <td>-0.344995</td>\n",
       "      <td>-0.159368</td>\n",
       "      <td>0.355</td>\n",
       "      <td>0.475</td>\n",
       "      <td>0.495</td>\n",
       "      <td>0.520</td>\n",
       "      <td>0.790</td>\n",
       "      <td>0.0</td>\n",
       "    </tr>\n",
       "    <tr>\n",
       "      <th>4</th>\n",
       "      <td>152.0</td>\n",
       "      <td>0.993464</td>\n",
       "      <td>153.0</td>\n",
       "      <td>0.993506</td>\n",
       "      <td>154.0</td>\n",
       "      <td>0.962500</td>\n",
       "      <td>160.0</td>\n",
       "      <td>0.952381</td>\n",
       "      <td>157.0</td>\n",
       "      <td>0.9515151515151515</td>\n",
       "      <td>...</td>\n",
       "      <td>-0.378127</td>\n",
       "      <td>1.206714</td>\n",
       "      <td>-0.250729</td>\n",
       "      <td>-0.127746</td>\n",
       "      <td>0.380</td>\n",
       "      <td>0.480</td>\n",
       "      <td>0.505</td>\n",
       "      <td>0.530</td>\n",
       "      <td>0.835</td>\n",
       "      <td>0.0</td>\n",
       "    </tr>\n",
       "    <tr>\n",
       "      <th>...</th>\n",
       "      <td>...</td>\n",
       "      <td>...</td>\n",
       "      <td>...</td>\n",
       "      <td>...</td>\n",
       "      <td>...</td>\n",
       "      <td>...</td>\n",
       "      <td>...</td>\n",
       "      <td>...</td>\n",
       "      <td>...</td>\n",
       "      <td>...</td>\n",
       "      <td>...</td>\n",
       "      <td>...</td>\n",
       "      <td>...</td>\n",
       "      <td>...</td>\n",
       "      <td>...</td>\n",
       "      <td>...</td>\n",
       "      <td>...</td>\n",
       "      <td>...</td>\n",
       "      <td>...</td>\n",
       "      <td>...</td>\n",
       "      <td>...</td>\n",
       "    </tr>\n",
       "    <tr>\n",
       "      <th>11935</th>\n",
       "      <td>116.0</td>\n",
       "      <td>1.506494</td>\n",
       "      <td>77.0</td>\n",
       "      <td>0.516779</td>\n",
       "      <td>149.0</td>\n",
       "      <td>1.839506</td>\n",
       "      <td>81.0</td>\n",
       "      <td>0.515924</td>\n",
       "      <td>147.0</td>\n",
       "      <td>1.185483870967742</td>\n",
       "      <td>...</td>\n",
       "      <td>-0.336925</td>\n",
       "      <td>1.275027</td>\n",
       "      <td>-1.356683</td>\n",
       "      <td>-0.181837</td>\n",
       "      <td>0.355</td>\n",
       "      <td>0.245</td>\n",
       "      <td>0.385</td>\n",
       "      <td>0.430</td>\n",
       "      <td>0.675</td>\n",
       "      <td>2.0</td>\n",
       "    </tr>\n",
       "    <tr>\n",
       "      <th>11936</th>\n",
       "      <td>153.0</td>\n",
       "      <td>1.961538</td>\n",
       "      <td>78.0</td>\n",
       "      <td>0.509804</td>\n",
       "      <td>153.0</td>\n",
       "      <td>1.700000</td>\n",
       "      <td>90.0</td>\n",
       "      <td>0.612245</td>\n",
       "      <td>164.0</td>\n",
       "      <td>1.3553719008264462</td>\n",
       "      <td>...</td>\n",
       "      <td>0.298529</td>\n",
       "      <td>0.775469</td>\n",
       "      <td>-0.126409</td>\n",
       "      <td>0.148571</td>\n",
       "      <td>0.535</td>\n",
       "      <td>0.455</td>\n",
       "      <td>0.610</td>\n",
       "      <td>0.760</td>\n",
       "      <td>0.695</td>\n",
       "      <td>2.0</td>\n",
       "    </tr>\n",
       "    <tr>\n",
       "      <th>11937</th>\n",
       "      <td>128.0</td>\n",
       "      <td>0.977099</td>\n",
       "      <td>131.0</td>\n",
       "      <td>0.956204</td>\n",
       "      <td>137.0</td>\n",
       "      <td>1.062016</td>\n",
       "      <td>129.0</td>\n",
       "      <td>1.000000</td>\n",
       "      <td>169.0</td>\n",
       "      <td>1.3</td>\n",
       "      <td>...</td>\n",
       "      <td>0.004656</td>\n",
       "      <td>0.956034</td>\n",
       "      <td>0.791660</td>\n",
       "      <td>0.827525</td>\n",
       "      <td>0.285</td>\n",
       "      <td>0.265</td>\n",
       "      <td>0.350</td>\n",
       "      <td>0.385</td>\n",
       "      <td>0.390</td>\n",
       "      <td>2.0</td>\n",
       "    </tr>\n",
       "    <tr>\n",
       "      <th>11938</th>\n",
       "      <td>134.0</td>\n",
       "      <td>0.992593</td>\n",
       "      <td>135.0</td>\n",
       "      <td>0.971223</td>\n",
       "      <td>139.0</td>\n",
       "      <td>1.037313</td>\n",
       "      <td>134.0</td>\n",
       "      <td>1.022901</td>\n",
       "      <td>179.0</td>\n",
       "      <td>1.3065693430656935</td>\n",
       "      <td>...</td>\n",
       "      <td>-0.126056</td>\n",
       "      <td>0.747329</td>\n",
       "      <td>0.518987</td>\n",
       "      <td>0.518987</td>\n",
       "      <td>0.260</td>\n",
       "      <td>0.245</td>\n",
       "      <td>0.335</td>\n",
       "      <td>0.370</td>\n",
       "      <td>0.370</td>\n",
       "      <td>2.0</td>\n",
       "    </tr>\n",
       "    <tr>\n",
       "      <th>11939</th>\n",
       "      <td>131.0</td>\n",
       "      <td>1.015504</td>\n",
       "      <td>129.0</td>\n",
       "      <td>0.992308</td>\n",
       "      <td>130.0</td>\n",
       "      <td>0.970149</td>\n",
       "      <td>134.0</td>\n",
       "      <td>1.022901</td>\n",
       "      <td>174.0</td>\n",
       "      <td>1.3181818181818181</td>\n",
       "      <td>...</td>\n",
       "      <td>-0.169363</td>\n",
       "      <td>0.982999</td>\n",
       "      <td>0.795288</td>\n",
       "      <td>0.795288</td>\n",
       "      <td>0.275</td>\n",
       "      <td>0.260</td>\n",
       "      <td>0.350</td>\n",
       "      <td>0.380</td>\n",
       "      <td>0.380</td>\n",
       "      <td>2.0</td>\n",
       "    </tr>\n",
       "  </tbody>\n",
       "</table>\n",
       "<p>11940 rows × 32 columns</p>\n",
       "</div>"
      ]
     },
     "execution_count": 2,
     "metadata": {},
     "output_type": "execute_result"
    }
   ],
   "execution_count": 2
  },
  {
   "metadata": {
    "ExecuteTime": {
     "end_time": "2025-10-14T08:41:48.063110Z",
     "start_time": "2025-10-14T08:41:47.741572Z"
    }
   },
   "cell_type": "code",
   "source": "raw_data.to_csv(\"lab2/full_dataset_WITH_missing_values.csv\")",
   "id": "46ea6eea569c9366",
   "outputs": [],
   "execution_count": 52
  },
  {
   "metadata": {},
   "cell_type": "markdown",
   "source": "praleistos reiksmes bendrai",
   "id": "468cd5d9e746f383"
  },
  {
   "metadata": {
    "ExecuteTime": {
     "end_time": "2025-10-14T08:46:56.534828Z",
     "start_time": "2025-10-14T08:46:56.528226Z"
    }
   },
   "cell_type": "code",
   "source": [
    "missing = raw_data.isna().sum() # tikriname, kiek ya praleistu reiksmiu\n",
    "print(missing)\n"
   ],
   "id": "927cd8ae54751f58",
   "outputs": [
    {
     "name": "stdout",
     "output_type": "stream",
     "text": [
      "RR_l_0            0\n",
      "RR_l_0/RR_l_1     1\n",
      "RR_l_1            1\n",
      "RR_l_1/RR_l_2     2\n",
      "RR_l_2            2\n",
      "RR_l_2/RR_l_3    14\n",
      "RR_l_3            4\n",
      "RR_l_3/RR_l_4     7\n",
      "RR_r_0            8\n",
      "RR_r_0/RR_r_1     4\n",
      "RR_r_1            5\n",
      "RR_r_1/RR_r_2     8\n",
      "RR_r_2            3\n",
      "RR_r_2/RR_r_3     5\n",
      "RR_r_3            2\n",
      "RR_r_3/RR_r_4     2\n",
      "seq_size          2\n",
      "signal_mean       5\n",
      "signal_std        3\n",
      "wl_side           1\n",
      "wr_side           4\n",
      "P_val             2\n",
      "Q_val             5\n",
      "R_val             5\n",
      "S_val             3\n",
      "T_val             1\n",
      "P_pos             0\n",
      "Q_pos             2\n",
      "R_pos             0\n",
      "S_pos             2\n",
      "T_pos             0\n",
      "label            17\n",
      "dtype: int64\n"
     ]
    }
   ],
   "execution_count": 3
  },
  {
   "metadata": {
    "ExecuteTime": {
     "end_time": "2025-10-14T08:47:02.450300Z",
     "start_time": "2025-10-14T08:47:02.428055Z"
    }
   },
   "cell_type": "code",
   "source": [
    "data = raw_data.dropna()\n",
    "data = raw_data.apply(pd.to_numeric, errors='coerce').dropna()"
   ],
   "id": "e3e2718e06b93344",
   "outputs": [],
   "execution_count": 4
  },
  {
   "metadata": {
    "ExecuteTime": {
     "end_time": "2025-10-14T08:47:03.631311Z",
     "start_time": "2025-10-14T08:47:03.626021Z"
    }
   },
   "cell_type": "code",
   "source": [
    "missing = data.isna().sum() # tikriname, kiek liko praleistu reiksmiu\n",
    "print(missing)"
   ],
   "id": "e7a85ffab8ca5f7c",
   "outputs": [
    {
     "name": "stdout",
     "output_type": "stream",
     "text": [
      "RR_l_0           0\n",
      "RR_l_0/RR_l_1    0\n",
      "RR_l_1           0\n",
      "RR_l_1/RR_l_2    0\n",
      "RR_l_2           0\n",
      "RR_l_2/RR_l_3    0\n",
      "RR_l_3           0\n",
      "RR_l_3/RR_l_4    0\n",
      "RR_r_0           0\n",
      "RR_r_0/RR_r_1    0\n",
      "RR_r_1           0\n",
      "RR_r_1/RR_r_2    0\n",
      "RR_r_2           0\n",
      "RR_r_2/RR_r_3    0\n",
      "RR_r_3           0\n",
      "RR_r_3/RR_r_4    0\n",
      "seq_size         0\n",
      "signal_mean      0\n",
      "signal_std       0\n",
      "wl_side          0\n",
      "wr_side          0\n",
      "P_val            0\n",
      "Q_val            0\n",
      "R_val            0\n",
      "S_val            0\n",
      "T_val            0\n",
      "P_pos            0\n",
      "Q_pos            0\n",
      "R_pos            0\n",
      "S_pos            0\n",
      "T_pos            0\n",
      "label            0\n",
      "dtype: int64\n"
     ]
    }
   ],
   "execution_count": 5
  },
  {
   "metadata": {
    "ExecuteTime": {
     "end_time": "2025-10-14T08:47:17.851403Z",
     "start_time": "2025-10-14T08:47:17.538453Z"
    }
   },
   "cell_type": "code",
   "source": "data.to_csv(\"lab2/full_dataset_NO_missing_values.csv\", index=False)",
   "id": "fd053819c941bc69",
   "outputs": [],
   "execution_count": 7
  },
  {
   "metadata": {
    "ExecuteTime": {
     "end_time": "2025-10-14T08:43:31.282354Z",
     "start_time": "2025-10-14T08:43:31.173209Z"
    }
   },
   "cell_type": "code",
   "source": [
    "\n",
    "seed = 6521\n",
    "data_seed = (\n",
    "    raw_data[raw_data[\"label\"].notna()]\n",
    "    .groupby(\"label\", group_keys=False)\n",
    "    .apply(lambda x: x.sample(n=500, replace=False, random_state=seed))\n",
    ") # atsitiktinai isrenkame po 500 irasu kiekvienai klasei\n",
    "\n"
   ],
   "id": "53ed2f4b75b32c75",
   "outputs": [],
   "execution_count": 59
  },
  {
   "metadata": {
    "ExecuteTime": {
     "end_time": "2025-09-21T11:48:06.942557Z",
     "start_time": "2025-09-21T11:48:06.896010Z"
    }
   },
   "cell_type": "code",
   "source": "data_seed.to_csv(\"csv/raw_data_1500.csv\", index=False)",
   "id": "751dc02e1b866838",
   "outputs": [],
   "execution_count": 25
  },
  {
   "metadata": {
    "ExecuteTime": {
     "end_time": "2025-10-14T08:43:42.394018Z",
     "start_time": "2025-10-14T08:43:42.388507Z"
    }
   },
   "cell_type": "code",
   "source": [
    "cols_to_keep  = [\"signal_std\", \"wl_side\", \"R_val\", \"RR_r_0/RR_r_1\", \"P_val\", \"Q_val\", \"label\"] #tiriamieji pozymiai\n",
    "\n",
    "data_6 = data_seed[cols_to_keep] # paliekame tik reikalingus pozymius"
   ],
   "id": "c04c72a888ce50e0",
   "outputs": [],
   "execution_count": 60
  },
  {
   "metadata": {
    "ExecuteTime": {
     "end_time": "2025-09-21T11:48:43.517994Z",
     "start_time": "2025-09-21T11:48:43.502304Z"
    }
   },
   "cell_type": "code",
   "source": "data_6.to_csv(\"csv/raw_data_1500_6.csv\", index=False)",
   "id": "d579f3005b21e2e",
   "outputs": [],
   "execution_count": 26
  },
  {
   "metadata": {
    "ExecuteTime": {
     "end_time": "2025-10-14T08:43:45.444659Z",
     "start_time": "2025-10-14T08:43:45.439136Z"
    }
   },
   "cell_type": "code",
   "source": [
    "missing = data_6.isna().sum() # tikriname, kiek ya praleistu reiksmiu\n",
    "print(missing)\n"
   ],
   "id": "b02d107823ed81ae",
   "outputs": [
    {
     "name": "stdout",
     "output_type": "stream",
     "text": [
      "signal_std       0\n",
      "wl_side          0\n",
      "R_val            0\n",
      "RR_r_0/RR_r_1    2\n",
      "P_val            0\n",
      "Q_val            0\n",
      "label            0\n",
      "dtype: int64\n"
     ]
    }
   ],
   "execution_count": 61
  },
  {
   "metadata": {
    "ExecuteTime": {
     "end_time": "2025-10-14T08:43:48.063034Z",
     "start_time": "2025-10-14T08:43:48.057830Z"
    }
   },
   "cell_type": "code",
   "source": "data = data_6[data_6[\"RR_r_0/RR_r_1\"].notna()] #saliname irasus su praleistomis reiksmemis\n",
   "id": "62ce749366818bf3",
   "outputs": [],
   "execution_count": 62
  },
  {
   "metadata": {
    "ExecuteTime": {
     "end_time": "2025-10-14T08:45:08.423094Z",
     "start_time": "2025-10-14T08:45:08.408057Z"
    }
   },
   "cell_type": "code",
   "source": "data.to_csv(\"lab2/NO_missing_values_1498_6.csv\", index = False)",
   "id": "25e46127ecbad117",
   "outputs": [],
   "execution_count": 63
  },
  {
   "metadata": {
    "ExecuteTime": {
     "end_time": "2025-09-28T19:19:48.479907Z",
     "start_time": "2025-09-28T19:19:48.472022Z"
    }
   },
   "cell_type": "code",
   "source": "all_data = pd.read_csv(\"csv/raw_data_1498_6.csv\")",
   "id": "b18c32e73eb286f6",
   "outputs": [],
   "execution_count": 7
  },
  {
   "metadata": {
    "ExecuteTime": {
     "end_time": "2025-09-28T19:20:58.394937Z",
     "start_time": "2025-09-28T19:20:58.388600Z"
    }
   },
   "cell_type": "code",
   "source": [
    "# isskirstome duomenis i tris skirtingas aibes pagal klases\n",
    "\n",
    "label_0 = data.loc[data[\"label\"] == 0]\n",
    "label_1 = data.loc[data[\"label\"] == 1]\n",
    "label_2 = data.loc[data[\"label\"] == 2]\n",
    "print(len(label_0), len(label_1), len(label_2))"
   ],
   "id": "a31b8aa7252bbbe4",
   "outputs": [
    {
     "name": "stdout",
     "output_type": "stream",
     "text": [
      "498 500 500\n"
     ]
    }
   ],
   "execution_count": 8
  },
  {
   "metadata": {
    "ExecuteTime": {
     "end_time": "2025-09-28T19:23:49.008953Z",
     "start_time": "2025-09-28T19:23:48.992879Z"
    }
   },
   "cell_type": "code",
   "source": [
    "columns  = [\"signal_std\", \"wl_side\", \"R_val\", \"RR_r_0/RR_r_1\", \"P_val\", \"Q_val\"] #tam, kad tiriant pozymisu nebutu label\n",
    "def is_it_outlier(data):\n",
    "    data = data.copy()\n",
    "    data['is_outlier'] = False\n",
    "    for col in columns:\n",
    "        column = pd.to_numeric(data[col])\n",
    "        Q1 = column.quantile(0.25)\n",
    "        Q3 = column.quantile(0.75)\n",
    "        IQR = Q3 - Q1\n",
    "        lower_bound = Q1 - 3 * IQR\n",
    "        upper_bound = Q3 + 3 * IQR\n",
    "\n",
    "        mask = (column < lower_bound) | (column > upper_bound)\n",
    "        data.loc[mask, 'is_outlier'] = True\n",
    "    return data\n",
    "\n",
    "temp_data = is_it_outlier(all_data)\n",
    "mask = temp_data['is_outlier'] == True\n",
    "clean_all_data = temp_data.loc[~mask] # saliname isskirtis"
   ],
   "id": "91b8a5369e5c78fc",
   "outputs": [
    {
     "name": "stdout",
     "output_type": "stream",
     "text": [
      "1381\n"
     ]
    }
   ],
   "execution_count": 10
  },
  {
   "metadata": {
    "ExecuteTime": {
     "end_time": "2025-09-28T19:27:02.562228Z",
     "start_time": "2025-09-28T19:27:02.549193Z"
    }
   },
   "cell_type": "code",
   "source": [
    "def outliers_function(data, column, factor): #funkcija isskirtims nustatyti\n",
    "    col = pd.to_numeric(data[column]).astype(float)\n",
    "\n",
    "    Q1 = col.quantile(0.25)\n",
    "    Q3 = col.quantile(0.75)\n",
    "    IQR = Q3 - Q1\n",
    "\n",
    "    lower_15 = Q1 - 1.5 * IQR\n",
    "    upper_15 = Q3 + 1.5 * IQR\n",
    "    lower_3 = Q1 - 3 * IQR\n",
    "    upper_3 = Q3 + 3 * IQR\n",
    "\n",
    "\n",
    "    if factor == 3:  # ekstremalios isskirtys\n",
    "        out = col[(col < lower_3) | (col > upper_3)]\n",
    "\n",
    "    elif factor == 1.5:  # salygines isskirtys\n",
    "        out = col[((col < lower_15) & (col >= lower_3)) |\n",
    "                  ((col > upper_15) & (col <= upper_3))]\n",
    "\n",
    "    return out\n",
    "\n",
    "for col in columns:\n",
    "    outlier = outliers_function(all_data, col, 3)\n",
    "    extreme_sum = len(outlier)\n",
    "    print(f\"{col} outliers: {extreme_sum}\")"
   ],
   "id": "839b429e2466791a",
   "outputs": [
    {
     "name": "stdout",
     "output_type": "stream",
     "text": [
      "signal_std outliers: 0\n",
      "wl_side outliers: 0\n",
      "R_val outliers: 0\n",
      "RR_r_0/RR_r_1 outliers: 43\n",
      "P_val outliers: 0\n",
      "Q_val outliers: 74\n"
     ]
    }
   ],
   "execution_count": 12
  },
  {
   "metadata": {
    "ExecuteTime": {
     "end_time": "2025-09-21T11:42:29.962581Z",
     "start_time": "2025-09-21T11:42:29.932928Z"
    }
   },
   "cell_type": "code",
   "source": "clean_all_data.to_csv(\"final_clean_all_data.csv\", index=False)",
   "id": "492563c4f5698e2a",
   "outputs": [],
   "execution_count": 23
  },
  {
   "metadata": {},
   "cell_type": "code",
   "outputs": [],
   "execution_count": null,
   "source": [
    "mask = clean_all_data[\"label\"] == 0\n",
    "label_0 = clean_all_data.loc[mask]\n",
    "label_0.to_csv(\"final_clean_data/final_label_0.csv\", index = False)\n",
    "\n",
    "mask = clean_all_data[\"label\"] == 1\n",
    "label_1 = clean_all_data.loc[mask]\n",
    "label_1.to_csv(\"final_clean_data/final_label_1.csv\", index = False)\n",
    "\n",
    "mask = clean_all_data[\"label\"] == 2\n",
    "label_2 = clean_all_data.loc[mask]\n",
    "label_2.to_csv(\"final_clean_data/final_label_2.csv\", index = False)"
   ],
   "id": "d23de2b3c831f2b"
  }
 ],
 "metadata": {
  "kernelspec": {
   "display_name": "Python 3",
   "language": "python",
   "name": "python3"
  },
  "language_info": {
   "codemirror_mode": {
    "name": "ipython",
    "version": 2
   },
   "file_extension": ".py",
   "mimetype": "text/x-python",
   "name": "python",
   "nbconvert_exporter": "python",
   "pygments_lexer": "ipython2",
   "version": "2.7.6"
  }
 },
 "nbformat": 4,
 "nbformat_minor": 5
}
