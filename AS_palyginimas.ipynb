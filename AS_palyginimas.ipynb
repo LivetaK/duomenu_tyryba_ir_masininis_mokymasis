{
 "cells": [
  {
   "cell_type": "code",
   "id": "initial_id",
   "metadata": {
    "collapsed": true,
    "ExecuteTime": {
     "end_time": "2025-09-22T07:31:00.606790Z",
     "start_time": "2025-09-22T07:31:00.590344Z"
    }
   },
   "source": [
    "import pandas as pd\n",
    "\n",
    "first_data = pd.read_csv('csv/aprasomojiStatistika/aprasomoji_statistika_by_label.csv')\n",
    "data_first_0 = first_data.loc[first_data['Label']==0]\n",
    "data_first_1 = first_data.loc[first_data['Label']==1]\n",
    "data_first_2 = first_data.loc[first_data['Label']==2]\n"
   ],
   "outputs": [],
   "execution_count": 2
  },
  {
   "metadata": {
    "ExecuteTime": {
     "end_time": "2025-09-22T07:33:10.869429Z",
     "start_time": "2025-09-22T07:33:10.849266Z"
    }
   },
   "cell_type": "code",
   "source": [
    "data_second_0 = pd.read_csv(\"sutvarkytu_duomenu_aprasomoji_statistika/sutvarkytu_duomenu_aprasomoji_statistika_label_0.csv\")\n",
    "data_second_1 = pd.read_csv(\"sutvarkytu_duomenu_aprasomoji_statistika/sutvarkytu_duomenu_aprasomoji_statistika_label_1.csv\")\n",
    "data_second_2 = pd.read_csv(\"sutvarkytu_duomenu_aprasomoji_statistika/sutvarkytu_duomenu_aprasomoji_statistika_label_2.csv\")"
   ],
   "id": "9355fca20cf71206",
   "outputs": [],
   "execution_count": 4
  },
  {
   "metadata": {
    "ExecuteTime": {
     "end_time": "2025-09-22T07:39:42.317685Z",
     "start_time": "2025-09-22T07:39:42.276946Z"
    }
   },
   "cell_type": "code",
   "source": "data_first_0",
   "id": "458034ac8c39d4ae",
   "outputs": [
    {
     "data": {
      "text/plain": [
       "   Label       Variable  Minimumas   Q1.25.   Mediana  Vidurkis    Q3.75.  \\\n",
       "0      0     signal_std     0.1368   0.2404    0.2670    0.3047    0.3595   \n",
       "1      0        wl_side    73.0000  99.0000  112.0000  110.4960  121.0000   \n",
       "2      0          R_val     0.6784   1.1894    1.6051    1.5711    1.8650   \n",
       "3      0  RR_r_0/RR_r_1     0.2873   0.9722    1.0000    0.9927    1.0250   \n",
       "4      0          P_val    -0.6616  -0.2563   -0.1778   -0.0969   -0.0623   \n",
       "5      0          Q_val    -0.9827  -0.5364   -0.4612   -0.4284   -0.3003   \n",
       "\n",
       "   Maksimumas  Dispersija  Neegzistuojancios.reiksmes  \n",
       "0      0.8259      0.0171                           0  \n",
       "1    172.0000    351.4248                           0  \n",
       "2      2.9692      0.2078                           0  \n",
       "3      2.1515      0.0295                           2  \n",
       "4      2.2769      0.1241                           0  \n",
       "5      0.0909      0.0264                           0  "
      ],
      "text/html": [
       "<div>\n",
       "<style scoped>\n",
       "    .dataframe tbody tr th:only-of-type {\n",
       "        vertical-align: middle;\n",
       "    }\n",
       "\n",
       "    .dataframe tbody tr th {\n",
       "        vertical-align: top;\n",
       "    }\n",
       "\n",
       "    .dataframe thead th {\n",
       "        text-align: right;\n",
       "    }\n",
       "</style>\n",
       "<table border=\"1\" class=\"dataframe\">\n",
       "  <thead>\n",
       "    <tr style=\"text-align: right;\">\n",
       "      <th></th>\n",
       "      <th>Label</th>\n",
       "      <th>Variable</th>\n",
       "      <th>Minimumas</th>\n",
       "      <th>Q1.25.</th>\n",
       "      <th>Mediana</th>\n",
       "      <th>Vidurkis</th>\n",
       "      <th>Q3.75.</th>\n",
       "      <th>Maksimumas</th>\n",
       "      <th>Dispersija</th>\n",
       "      <th>Neegzistuojancios.reiksmes</th>\n",
       "    </tr>\n",
       "  </thead>\n",
       "  <tbody>\n",
       "    <tr>\n",
       "      <th>0</th>\n",
       "      <td>0</td>\n",
       "      <td>signal_std</td>\n",
       "      <td>0.1368</td>\n",
       "      <td>0.2404</td>\n",
       "      <td>0.2670</td>\n",
       "      <td>0.3047</td>\n",
       "      <td>0.3595</td>\n",
       "      <td>0.8259</td>\n",
       "      <td>0.0171</td>\n",
       "      <td>0</td>\n",
       "    </tr>\n",
       "    <tr>\n",
       "      <th>1</th>\n",
       "      <td>0</td>\n",
       "      <td>wl_side</td>\n",
       "      <td>73.0000</td>\n",
       "      <td>99.0000</td>\n",
       "      <td>112.0000</td>\n",
       "      <td>110.4960</td>\n",
       "      <td>121.0000</td>\n",
       "      <td>172.0000</td>\n",
       "      <td>351.4248</td>\n",
       "      <td>0</td>\n",
       "    </tr>\n",
       "    <tr>\n",
       "      <th>2</th>\n",
       "      <td>0</td>\n",
       "      <td>R_val</td>\n",
       "      <td>0.6784</td>\n",
       "      <td>1.1894</td>\n",
       "      <td>1.6051</td>\n",
       "      <td>1.5711</td>\n",
       "      <td>1.8650</td>\n",
       "      <td>2.9692</td>\n",
       "      <td>0.2078</td>\n",
       "      <td>0</td>\n",
       "    </tr>\n",
       "    <tr>\n",
       "      <th>3</th>\n",
       "      <td>0</td>\n",
       "      <td>RR_r_0/RR_r_1</td>\n",
       "      <td>0.2873</td>\n",
       "      <td>0.9722</td>\n",
       "      <td>1.0000</td>\n",
       "      <td>0.9927</td>\n",
       "      <td>1.0250</td>\n",
       "      <td>2.1515</td>\n",
       "      <td>0.0295</td>\n",
       "      <td>2</td>\n",
       "    </tr>\n",
       "    <tr>\n",
       "      <th>4</th>\n",
       "      <td>0</td>\n",
       "      <td>P_val</td>\n",
       "      <td>-0.6616</td>\n",
       "      <td>-0.2563</td>\n",
       "      <td>-0.1778</td>\n",
       "      <td>-0.0969</td>\n",
       "      <td>-0.0623</td>\n",
       "      <td>2.2769</td>\n",
       "      <td>0.1241</td>\n",
       "      <td>0</td>\n",
       "    </tr>\n",
       "    <tr>\n",
       "      <th>5</th>\n",
       "      <td>0</td>\n",
       "      <td>Q_val</td>\n",
       "      <td>-0.9827</td>\n",
       "      <td>-0.5364</td>\n",
       "      <td>-0.4612</td>\n",
       "      <td>-0.4284</td>\n",
       "      <td>-0.3003</td>\n",
       "      <td>0.0909</td>\n",
       "      <td>0.0264</td>\n",
       "      <td>0</td>\n",
       "    </tr>\n",
       "  </tbody>\n",
       "</table>\n",
       "</div>"
      ]
     },
     "execution_count": 7,
     "metadata": {},
     "output_type": "execute_result"
    }
   ],
   "execution_count": 7
  },
  {
   "metadata": {
    "ExecuteTime": {
     "end_time": "2025-09-22T07:47:13.884398Z",
     "start_time": "2025-09-22T07:47:13.738769Z"
    }
   },
   "cell_type": "code",
   "source": [
    "import matplotlib.pyplot as plt\n",
    "import seaborn as sns\n",
    "\n",
    "df = data_first_1\n",
    "plt.figure(figsize=(8,5))\n",
    "plt.bar(df[\"Variable\"], df[\"Vidurkis\"], color=\"skyblue\")\n",
    "plt.xticks(rotation=45, ha=\"right\")\n",
    "plt.ylabel(\"Vidurkis\")\n",
    "plt.title(\"Kiekvieno požymio vidurkis\")\n",
    "plt.show()"
   ],
   "id": "2964f9cb4b2ace99",
   "outputs": [
    {
     "data": {
      "text/plain": [
       "<Figure size 800x500 with 1 Axes>"
      ],
      "image/png": "[encoded data removed]"
     },
     "metadata": {},
     "output_type": "display_data",
     "jetTransient": {
      "display_id": null
     }
    }
   ],
   "execution_count": 13
  }
 ],
 "metadata": {
  "kernelspec": {
   "display_name": "Python 3",
   "language": "python",
   "name": "python3"
  },
  "language_info": {
   "codemirror_mode": {
    "name": "ipython",
    "version": 2
   },
   "file_extension": ".py",
   "mimetype": "text/x-python",
   "name": "python",
   "nbconvert_exporter": "python",
   "pygments_lexer": "ipython2",
   "version": "2.7.6"
  }
 },
 "nbformat": 4,
 "nbformat_minor": 5
}
