{
 "cells": [
  {
   "cell_type": "code",
   "id": "initial_id",
   "metadata": {
    "collapsed": true,
    "ExecuteTime": {
     "end_time": "2025-09-21T18:12:00.436665Z",
     "start_time": "2025-09-21T18:12:00.425734Z"
    }
   },
   "source": [
    "import pandas as pd\n",
    "import numpy as np\n",
    "\n",
    "label_0 = pd.read_csv(\"csv/clean_data_by_label/label_0.csv\")\n",
    "label_1 = pd.read_csv(\"csv/clean_data_by_label/label_1.csv\")\n",
    "label_2 = pd.read_csv(\"csv/clean_data_by_label/label_2.csv\")"
   ],
   "outputs": [],
   "execution_count": 2
  },
  {
   "metadata": {
    "ExecuteTime": {
     "end_time": "2025-09-21T18:16:02.276662Z",
     "start_time": "2025-09-21T18:16:02.262816Z"
    }
   },
   "cell_type": "code",
   "source": [
    "stats_list = []\n",
    "\n",
    "for col in label_2.columns:\n",
    "    x = label_2[col]\n",
    "    stats = {\n",
    "        \"Variable\": col,\n",
    "        \"Minimumas\": np.nanmin(x),\n",
    "        \"Q1\": np.nanquantile(x, 0.25),\n",
    "        \"Mediana\": np.nanmedian(x),\n",
    "        \"Vidurkis\": np.nanmean(x),\n",
    "        \"Q3\": np.nanquantile(x, 0.75),\n",
    "        \"Maksimumas\": np.nanmax(x),\n",
    "        \"Dispersija\": np.nanvar(x, ddof=1),\n",
    "        \"Neegzistuojancios_reiksmes\": x.isna().sum()\n",
    "    }\n",
    "    stats_list.append(stats)\n",
    "\n",
    "stats_df = pd.DataFrame(stats_list)\n",
    "\n",
    "stats_df = stats_df.round(4)\n",
    "\n",
    "\n",
    "stats_df.to_csv(\"sutvarkytu_duomenu_aprasomoji_statistika/sutvarkytu_duomenu_aprasomoji_statistika_label_2.csv\", index=False)"
   ],
   "id": "d766be624f6ab951",
   "outputs": [],
   "execution_count": 7
  }
 ],
 "metadata": {
  "kernelspec": {
   "display_name": "Python 3",
   "language": "python",
   "name": "python3"
  },
  "language_info": {
   "codemirror_mode": {
    "name": "ipython",
    "version": 2
   },
   "file_extension": ".py",
   "mimetype": "text/x-python",
   "name": "python",
   "nbconvert_exporter": "python",
   "pygments_lexer": "ipython2",
   "version": "2.7.6"
  }
 },
 "nbformat": 4,
 "nbformat_minor": 5
}
