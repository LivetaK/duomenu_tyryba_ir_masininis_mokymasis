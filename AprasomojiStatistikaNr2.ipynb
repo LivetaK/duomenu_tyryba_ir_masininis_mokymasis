{
 "cells": [
  {
   "metadata": {
    "ExecuteTime": {
     "end_time": "2025-09-28T19:33:05.271028Z",
     "start_time": "2025-09-28T19:33:04.879277Z"
    }
   },
   "cell_type": "code",
   "source": [
    "import pandas as pd\n",
    "import numpy as np\n",
    "all_data_ = pd.read_csv(\"final_clean_data/final_clean_all_data.csv\")\n",
    "label_0_ = pd.read_csv(\"final_clean_data/final_label_0.csv\")\n",
    "label_1_ = pd.read_csv(\"final_clean_data/final_label_1.csv\")\n",
    "label_2_ = pd.read_csv(\"final_clean_data/final_label_2.csv\")\n",
    "all_data = all_data_.drop(columns = \"is_outlier\")\n",
    "label_0 = label_0_.drop(columns = \"is_outlier\")\n",
    "label_1 = label_1_.drop(columns = \"is_outlier\")\n",
    "label_2 = label_2_.drop(columns = \"is_outlier\")\n"
   ],
   "id": "d4b084f36916abe1",
   "outputs": [],
   "execution_count": 1
  },
  {
   "metadata": {
    "ExecuteTime": {
     "end_time": "2025-09-28T19:33:56.840623Z",
     "start_time": "2025-09-28T19:33:56.829588Z"
    }
   },
   "cell_type": "code",
   "source": [
    "stats_list = []\n",
    "\n",
    "for col in all_data.columns:\n",
    "    x = all_data[col]\n",
    "    stats = {\n",
    "        \"Variable\": col,\n",
    "        \"Minimumas\": np.nanmin(x),\n",
    "        \"Q1\": np.nanquantile(x, 0.25),\n",
    "        \"Mediana\": np.nanmedian(x),\n",
    "        \"Vidurkis\": np.nanmean(x),\n",
    "        \"Q3\": np.nanquantile(x, 0.75),\n",
    "        \"Maksimumas\": np.nanmax(x),\n",
    "        \"Dispersija\": np.nanvar(x, ddof=1),\n",
    "        \"Neegzistuojancios_reiksmes\": x.isna().sum()\n",
    "    }\n",
    "    stats_list.append(stats)\n",
    "\n",
    "stats_df = pd.DataFrame(stats_list)\n",
    "\n",
    "stats_df = stats_df.round(4)"
   ],
   "id": "732e143e0add9443",
   "outputs": [],
   "execution_count": 9
  },
  {
   "metadata": {
    "ExecuteTime": {
     "end_time": "2025-09-28T19:33:57.972097Z",
     "start_time": "2025-09-28T19:33:57.967686Z"
    }
   },
   "cell_type": "code",
   "source": "stats_df.to_csv(\"sutvarkytu_duomenu_aprasomoji_statistika/sutvarkytu_duomenu_aprasomoji_statistika_all_data.csv\", index = False)",
   "id": "290aad31f36ef538",
   "outputs": [],
   "execution_count": 10
  }
 ],
 "metadata": {
  "kernelspec": {
   "name": "python3",
   "language": "python",
   "display_name": "Python 3 (ipykernel)"
  }
 },
 "nbformat": 4,
 "nbformat_minor": 5
}
