{
 "cells": [
  {
   "metadata": {
    "ExecuteTime": {
     "end_time": "2025-09-22T14:58:33.518354Z",
     "start_time": "2025-09-22T14:58:33.508065Z"
    }
   },
   "cell_type": "code",
   "source": [
    "import pandas as pd\n",
    "import numpy as np\n",
    "\n",
    "label_0 = pd.read_csv(\"csv/clean_data_by_label/label_0.csv\")\n",
    "label_1 = pd.read_csv(\"csv/clean_data_by_label/label_1.csv\")\n",
    "label_2 = pd.read_csv(\"csv/clean_data_by_label/label_2.csv\")"
   ],
   "id": "d4b084f36916abe1",
   "outputs": [],
   "execution_count": 12
  },
  {
   "metadata": {
    "ExecuteTime": {
     "end_time": "2025-09-22T14:58:36.700580Z",
     "start_time": "2025-09-22T14:58:36.689251Z"
    }
   },
   "cell_type": "code",
   "source": [
    "stats_list = []\n",
    "\n",
    "for col in label_0.columns:\n",
    "    x = label_0[col]\n",
    "    stats = {\n",
    "        \"Variable\": col,\n",
    "        \"Minimumas\": np.nanmin(x),\n",
    "        \"Q1\": np.nanquantile(x, 0.25),\n",
    "        \"Mediana\": np.nanmedian(x),\n",
    "        \"Vidurkis\": np.nanmean(x),\n",
    "        \"Q3\": np.nanquantile(x, 0.75),\n",
    "        \"Maksimumas\": np.nanmax(x),\n",
    "        \"Dispersija\": np.nanvar(x, ddof=1),\n",
    "        \"Neegzistuojancios_reiksmes\": x.isna().sum()\n",
    "    }\n",
    "    stats_list.append(stats)\n",
    "\n",
    "stats_df = pd.DataFrame(stats_list)\n",
    "\n",
    "stats_df = stats_df.round(4)"
   ],
   "id": "732e143e0add9443",
   "outputs": [],
   "execution_count": 13
  },
  {
   "metadata": {
    "ExecuteTime": {
     "end_time": "2025-09-22T14:58:40.067532Z",
     "start_time": "2025-09-22T14:58:40.062954Z"
    }
   },
   "cell_type": "code",
   "source": "stats_df.to_csv(\"sutvarkytu_duomenu_aprasomoji_statistika/sutvarkytu_duomenu_aprasomoji_statistika_label_0.csv\", index = False)",
   "id": "290aad31f36ef538",
   "outputs": [],
   "execution_count": 14
  }
 ],
 "metadata": {
  "kernelspec": {
   "name": "python3",
   "language": "python",
   "display_name": "Python 3 (ipykernel)"
  }
 },
 "nbformat": 4,
 "nbformat_minor": 5
}
