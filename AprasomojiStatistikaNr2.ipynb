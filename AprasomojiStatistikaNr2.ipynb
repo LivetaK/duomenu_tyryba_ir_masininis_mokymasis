{
 "cells": [
  {
   "metadata": {},
   "cell_type": "code",
   "outputs": [],
   "execution_count": null,
   "source": [
    "import pandas as pd\n",
    "import numpy as np\n",
    "\n",
    "label_0 = pd.read_csv(\"csv/clean_data_by_label/label_0.csv\")\n",
    "label_1 = pd.read_csv(\"csv/clean_data_by_label/label_1.csv\")\n",
    "label_2 = pd.read_csv(\"csv/clean_data_by_label/label_2.csv\")"
   ],
   "id": "d4b084f36916abe1"
  },
  {
   "metadata": {},
   "cell_type": "code",
   "outputs": [],
   "execution_count": null,
   "source": [
    "stats_list = []\n",
    "\n",
    "for col in label_0.columns:\n",
    "for col in label_2.columns:\n",
    "    x = label_2[col]\n",
    "    stats = {\n",
    "        \"Variable\": col,\n",
    "        \"Minimumas\": np.nanmin(x),\n",
    "        \"Q1\": np.nanquantile(x, 0.25),\n",
    "        \"Mediana\": np.nanmedian(x),\n",
    "        \"Vidurkis\": np.nanmean(x),\n",
    "        \"Q3\": np.nanquantile(x, 0.75),\n",
    "        \"Maksimumas\": np.nanmax(x),\n",
    "        \"Dispersija\": np.nanvar(x, ddof=1),\n",
    "        \"Neegzistuojancios_reiksmes\": x.isna().sum()\n",
    "    }\n",
    "    stats_list.append(stats)\n",
    "\n",
    "stats_df = pd.DataFrame(stats_list)\n",
    "\n",
    "stats_df = stats_df.round(4)"
   ],
   "id": "7eb5ba82e9f73f16"
  }
 ],
 "metadata": {},
 "nbformat": 4,
 "nbformat_minor": 5
}
